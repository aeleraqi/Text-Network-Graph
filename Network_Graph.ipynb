{
  "nbformat": 4,
  "nbformat_minor": 0,
  "metadata": {
    "colab": {
      "provenance": [],
      "authorship_tag": "ABX9TyPsn7x+FwattzH0NeCm2P5k",
      "include_colab_link": true
    },
    "kernelspec": {
      "name": "python3",
      "display_name": "Python 3"
    },
    "language_info": {
      "name": "python"
    }
  },
  "cells": [
    {
      "cell_type": "markdown",
      "metadata": {
        "id": "view-in-github",
        "colab_type": "text"
      },
      "source": [
        "<a href=\"https://colab.research.google.com/github/aeleraqi/Text-Network-Graph/blob/main/Network_Graph.ipynb\" target=\"_parent\"><img src=\"https://colab.research.google.com/assets/colab-badge.svg\" alt=\"Open In Colab\"/></a>"
      ]
    },
    {
      "cell_type": "code",
      "source": [
        "pip install glovpy gensim scikit-learn"
      ],
      "metadata": {
        "id": "KeWwdz6QpQtf",
        "colab": {
          "base_uri": "https://localhost:8080/"
        },
        "outputId": "a94b0346-6559-4431-ab63-77b2a8924a46",
        "collapsed": true
      },
      "execution_count": null,
      "outputs": [
        {
          "output_type": "stream",
          "name": "stdout",
          "text": [
            "Collecting glovpy\n",
            "  Downloading glovpy-0.2.0-py3-none-any.whl.metadata (6.1 kB)\n",
            "Requirement already satisfied: gensim in /usr/local/lib/python3.10/dist-packages (4.3.3)\n",
            "Requirement already satisfied: scikit-learn in /usr/local/lib/python3.10/dist-packages (1.3.2)\n",
            "Requirement already satisfied: numpy<2.0,>=1.18.5 in /usr/local/lib/python3.10/dist-packages (from gensim) (1.26.4)\n",
            "Requirement already satisfied: scipy<1.14.0,>=1.7.0 in /usr/local/lib/python3.10/dist-packages (from gensim) (1.13.1)\n",
            "Requirement already satisfied: smart-open>=1.8.1 in /usr/local/lib/python3.10/dist-packages (from gensim) (7.0.4)\n",
            "Requirement already satisfied: joblib>=1.1.1 in /usr/local/lib/python3.10/dist-packages (from scikit-learn) (1.4.2)\n",
            "Requirement already satisfied: threadpoolctl>=2.0.0 in /usr/local/lib/python3.10/dist-packages (from scikit-learn) (3.5.0)\n",
            "Requirement already satisfied: wrapt in /usr/local/lib/python3.10/dist-packages (from smart-open>=1.8.1->gensim) (1.16.0)\n",
            "Downloading glovpy-0.2.0-py3-none-any.whl (7.7 kB)\n",
            "Installing collected packages: glovpy\n",
            "Successfully installed glovpy-0.2.0\n"
          ]
        }
      ]
    },
    {
      "cell_type": "code",
      "source": [
        "!pip install embedding-explorer"
      ],
      "metadata": {
        "id": "96_LB5Hsbb-Y",
        "colab": {
          "base_uri": "https://localhost:8080/"
        },
        "outputId": "31f309df-20a0-40fb-dea2-897a810ec904",
        "collapsed": true
      },
      "execution_count": null,
      "outputs": [
        {
          "output_type": "stream",
          "name": "stdout",
          "text": [
            "Collecting embedding-explorer\n",
            "  Downloading embedding_explorer-0.5.3-py3-none-any.whl.metadata (6.7 kB)\n",
            "Collecting dash<2.12.0,>=2.11.1 (from embedding-explorer)\n",
            "  Downloading dash-2.11.1-py3-none-any.whl.metadata (11 kB)\n",
            "Collecting dash-extensions<0.2.0,>=0.1.10 (from embedding-explorer)\n",
            "  Downloading dash_extensions-0.1.13-py3-none-any.whl.metadata (2.8 kB)\n",
            "Collecting dash-iconify<0.2.0,>=0.1.2 (from embedding-explorer)\n",
            "  Downloading dash_iconify-0.1.2-py3-none-any.whl.metadata (2.2 kB)\n",
            "Collecting dash-mantine-components<0.12.0,>=0.11.1 (from embedding-explorer)\n",
            "  Downloading dash_mantine_components-0.11.1-py3-none-any.whl.metadata (2.9 kB)\n",
            "Collecting hdbscan>=0.8.30 (from embedding-explorer)\n",
            "  Downloading hdbscan-0.8.38.post1-cp310-cp310-manylinux_2_17_x86_64.manylinux2014_x86_64.whl.metadata (15 kB)\n",
            "Collecting kaleido>=0.2.1 (from embedding-explorer)\n",
            "  Downloading kaleido-0.2.1-py2.py3-none-manylinux1_x86_64.whl.metadata (15 kB)\n",
            "Collecting neofuzz>=0.1.2 (from embedding-explorer)\n",
            "  Downloading neofuzz-0.1.3-py3-none-any.whl.metadata (6.1 kB)\n",
            "Requirement already satisfied: numpy>=1.23.0 in /usr/local/lib/python3.10/dist-packages (from embedding-explorer) (1.26.4)\n",
            "Requirement already satisfied: pandas>=1.5.2 in /usr/local/lib/python3.10/dist-packages (from embedding-explorer) (2.1.4)\n",
            "Collecting plotly<5.15.0,>=5.14.0 (from embedding-explorer)\n",
            "  Downloading plotly-5.14.1-py2.py3-none-any.whl.metadata (7.0 kB)\n",
            "Requirement already satisfied: scikit-learn<2.0.0,>=1.1.0 in /usr/local/lib/python3.10/dist-packages (from embedding-explorer) (1.3.2)\n",
            "Collecting umap-learn>=0.5.0 (from embedding-explorer)\n",
            "  Downloading umap_learn-0.5.6-py3-none-any.whl.metadata (21 kB)\n",
            "Requirement already satisfied: wordcloud<2.0.0.0,>=1.8.2.2 in /usr/local/lib/python3.10/dist-packages (from embedding-explorer) (1.9.3)\n",
            "Requirement already satisfied: Flask<2.3.0,>=1.0.4 in /usr/local/lib/python3.10/dist-packages (from dash<2.12.0,>=2.11.1->embedding-explorer) (2.2.5)\n",
            "Collecting Werkzeug<2.3.0 (from dash<2.12.0,>=2.11.1->embedding-explorer)\n",
            "  Downloading Werkzeug-2.2.3-py3-none-any.whl.metadata (4.4 kB)\n",
            "Collecting dash-html-components==2.0.0 (from dash<2.12.0,>=2.11.1->embedding-explorer)\n",
            "  Downloading dash_html_components-2.0.0-py3-none-any.whl.metadata (3.8 kB)\n",
            "Collecting dash-core-components==2.0.0 (from dash<2.12.0,>=2.11.1->embedding-explorer)\n",
            "  Downloading dash_core_components-2.0.0-py3-none-any.whl.metadata (2.9 kB)\n",
            "Collecting dash-table==5.0.0 (from dash<2.12.0,>=2.11.1->embedding-explorer)\n",
            "  Downloading dash_table-5.0.0-py3-none-any.whl.metadata (2.4 kB)\n",
            "Requirement already satisfied: typing-extensions>=4.1.1 in /usr/local/lib/python3.10/dist-packages (from dash<2.12.0,>=2.11.1->embedding-explorer) (4.12.2)\n",
            "Requirement already satisfied: requests in /usr/local/lib/python3.10/dist-packages (from dash<2.12.0,>=2.11.1->embedding-explorer) (2.32.3)\n",
            "Collecting retrying (from dash<2.12.0,>=2.11.1->embedding-explorer)\n",
            "  Downloading retrying-1.3.4-py3-none-any.whl.metadata (6.9 kB)\n",
            "Collecting ansi2html (from dash<2.12.0,>=2.11.1->embedding-explorer)\n",
            "  Downloading ansi2html-1.9.2-py3-none-any.whl.metadata (3.7 kB)\n",
            "Requirement already satisfied: nest-asyncio in /usr/local/lib/python3.10/dist-packages (from dash<2.12.0,>=2.11.1->embedding-explorer) (1.6.0)\n",
            "Collecting Flask-Caching==2.0.2 (from dash-extensions<0.2.0,>=0.1.10->embedding-explorer)\n",
            "  Downloading Flask_Caching-2.0.2-py3-none-any.whl.metadata (2.2 kB)\n",
            "Collecting jsbeautifier<2.0.0,>=1.14.3 (from dash-extensions<0.2.0,>=0.1.10->embedding-explorer)\n",
            "  Downloading jsbeautifier-1.15.1.tar.gz (75 kB)\n",
            "\u001b[2K     \u001b[90m━━━━━━━━━━━━━━━━━━━━━━━━━━━━━━━━━━━━━━━━\u001b[0m \u001b[32m75.6/75.6 kB\u001b[0m \u001b[31m3.6 MB/s\u001b[0m eta \u001b[36m0:00:00\u001b[0m\n",
            "\u001b[?25h  Installing build dependencies ... \u001b[?25l\u001b[?25hdone\n",
            "  Getting requirements to build wheel ... \u001b[?25l\u001b[?25hdone\n",
            "  Preparing metadata (pyproject.toml) ... \u001b[?25l\u001b[?25hdone\n",
            "Collecting more-itertools<10.0.0,>=9.0.0 (from dash-extensions<0.2.0,>=0.1.10->embedding-explorer)\n",
            "  Downloading more_itertools-9.1.0-py3-none-any.whl.metadata (32 kB)\n",
            "Collecting cachelib<0.10.0,>=0.9.0 (from Flask-Caching==2.0.2->dash-extensions<0.2.0,>=0.1.10->embedding-explorer)\n",
            "  Downloading cachelib-0.9.0-py3-none-any.whl.metadata (1.9 kB)\n",
            "Requirement already satisfied: scipy>=1.0 in /usr/local/lib/python3.10/dist-packages (from hdbscan>=0.8.30->embedding-explorer) (1.13.1)\n",
            "Requirement already satisfied: joblib>=1.0 in /usr/local/lib/python3.10/dist-packages (from hdbscan>=0.8.30->embedding-explorer) (1.4.2)\n",
            "Collecting pynndescent<0.6.0,>=0.5.0 (from neofuzz>=0.1.2->embedding-explorer)\n",
            "  Downloading pynndescent-0.5.13-py3-none-any.whl.metadata (6.8 kB)\n",
            "Collecting scikit-learn<2.0.0,>=1.1.0 (from embedding-explorer)\n",
            "  Downloading scikit_learn-1.2.2-cp310-cp310-manylinux_2_17_x86_64.manylinux2014_x86_64.whl.metadata (11 kB)\n",
            "Requirement already satisfied: python-dateutil>=2.8.2 in /usr/local/lib/python3.10/dist-packages (from pandas>=1.5.2->embedding-explorer) (2.8.2)\n",
            "Requirement already satisfied: pytz>=2020.1 in /usr/local/lib/python3.10/dist-packages (from pandas>=1.5.2->embedding-explorer) (2024.1)\n",
            "Requirement already satisfied: tzdata>=2022.1 in /usr/local/lib/python3.10/dist-packages (from pandas>=1.5.2->embedding-explorer) (2024.1)\n",
            "Requirement already satisfied: tenacity>=6.2.0 in /usr/local/lib/python3.10/dist-packages (from plotly<5.15.0,>=5.14.0->embedding-explorer) (9.0.0)\n",
            "Requirement already satisfied: packaging in /usr/local/lib/python3.10/dist-packages (from plotly<5.15.0,>=5.14.0->embedding-explorer) (24.1)\n",
            "Requirement already satisfied: threadpoolctl>=2.0.0 in /usr/local/lib/python3.10/dist-packages (from scikit-learn<2.0.0,>=1.1.0->embedding-explorer) (3.5.0)\n",
            "Requirement already satisfied: numba>=0.51.2 in /usr/local/lib/python3.10/dist-packages (from umap-learn>=0.5.0->embedding-explorer) (0.60.0)\n",
            "Requirement already satisfied: tqdm in /usr/local/lib/python3.10/dist-packages (from umap-learn>=0.5.0->embedding-explorer) (4.66.5)\n",
            "Requirement already satisfied: pillow in /usr/local/lib/python3.10/dist-packages (from wordcloud<2.0.0.0,>=1.8.2.2->embedding-explorer) (9.4.0)\n",
            "Requirement already satisfied: matplotlib in /usr/local/lib/python3.10/dist-packages (from wordcloud<2.0.0.0,>=1.8.2.2->embedding-explorer) (3.7.1)\n",
            "Requirement already satisfied: Jinja2>=3.0 in /usr/local/lib/python3.10/dist-packages (from Flask<2.3.0,>=1.0.4->dash<2.12.0,>=2.11.1->embedding-explorer) (3.1.4)\n",
            "Requirement already satisfied: itsdangerous>=2.0 in /usr/local/lib/python3.10/dist-packages (from Flask<2.3.0,>=1.0.4->dash<2.12.0,>=2.11.1->embedding-explorer) (2.2.0)\n",
            "Requirement already satisfied: click>=8.0 in /usr/local/lib/python3.10/dist-packages (from Flask<2.3.0,>=1.0.4->dash<2.12.0,>=2.11.1->embedding-explorer) (8.1.7)\n",
            "Requirement already satisfied: six>=1.13.0 in /usr/local/lib/python3.10/dist-packages (from jsbeautifier<2.0.0,>=1.14.3->dash-extensions<0.2.0,>=0.1.10->embedding-explorer) (1.16.0)\n",
            "Collecting editorconfig>=0.12.2 (from jsbeautifier<2.0.0,>=1.14.3->dash-extensions<0.2.0,>=0.1.10->embedding-explorer)\n",
            "  Downloading EditorConfig-0.12.4.tar.gz (13 kB)\n",
            "  Installing build dependencies ... \u001b[?25l\u001b[?25hdone\n",
            "  Getting requirements to build wheel ... \u001b[?25l\u001b[?25hdone\n",
            "  Preparing metadata (pyproject.toml) ... \u001b[?25l\u001b[?25hdone\n",
            "Requirement already satisfied: llvmlite<0.44,>=0.43.0dev0 in /usr/local/lib/python3.10/dist-packages (from numba>=0.51.2->umap-learn>=0.5.0->embedding-explorer) (0.43.0)\n",
            "Requirement already satisfied: MarkupSafe>=2.1.1 in /usr/local/lib/python3.10/dist-packages (from Werkzeug<2.3.0->dash<2.12.0,>=2.11.1->embedding-explorer) (2.1.5)\n",
            "Requirement already satisfied: contourpy>=1.0.1 in /usr/local/lib/python3.10/dist-packages (from matplotlib->wordcloud<2.0.0.0,>=1.8.2.2->embedding-explorer) (1.2.1)\n",
            "Requirement already satisfied: cycler>=0.10 in /usr/local/lib/python3.10/dist-packages (from matplotlib->wordcloud<2.0.0.0,>=1.8.2.2->embedding-explorer) (0.12.1)\n",
            "Requirement already satisfied: fonttools>=4.22.0 in /usr/local/lib/python3.10/dist-packages (from matplotlib->wordcloud<2.0.0.0,>=1.8.2.2->embedding-explorer) (4.53.1)\n",
            "Requirement already satisfied: kiwisolver>=1.0.1 in /usr/local/lib/python3.10/dist-packages (from matplotlib->wordcloud<2.0.0.0,>=1.8.2.2->embedding-explorer) (1.4.5)\n",
            "Requirement already satisfied: pyparsing>=2.3.1 in /usr/local/lib/python3.10/dist-packages (from matplotlib->wordcloud<2.0.0.0,>=1.8.2.2->embedding-explorer) (3.1.2)\n",
            "Requirement already satisfied: charset-normalizer<4,>=2 in /usr/local/lib/python3.10/dist-packages (from requests->dash<2.12.0,>=2.11.1->embedding-explorer) (3.3.2)\n",
            "Requirement already satisfied: idna<4,>=2.5 in /usr/local/lib/python3.10/dist-packages (from requests->dash<2.12.0,>=2.11.1->embedding-explorer) (3.7)\n",
            "Requirement already satisfied: urllib3<3,>=1.21.1 in /usr/local/lib/python3.10/dist-packages (from requests->dash<2.12.0,>=2.11.1->embedding-explorer) (2.0.7)\n",
            "Requirement already satisfied: certifi>=2017.4.17 in /usr/local/lib/python3.10/dist-packages (from requests->dash<2.12.0,>=2.11.1->embedding-explorer) (2024.7.4)\n",
            "Downloading embedding_explorer-0.5.3-py3-none-any.whl (43 kB)\n",
            "\u001b[2K   \u001b[90m━━━━━━━━━━━━━━━━━━━━━━━━━━━━━━━━━━━━━━━━\u001b[0m \u001b[32m43.7/43.7 kB\u001b[0m \u001b[31m2.0 MB/s\u001b[0m eta \u001b[36m0:00:00\u001b[0m\n",
            "\u001b[?25hDownloading dash-2.11.1-py3-none-any.whl (10.4 MB)\n",
            "\u001b[2K   \u001b[90m━━━━━━━━━━━━━━━━━━━━━━━━━━━━━━━━━━━━━━━━\u001b[0m \u001b[32m10.4/10.4 MB\u001b[0m \u001b[31m86.4 MB/s\u001b[0m eta \u001b[36m0:00:00\u001b[0m\n",
            "\u001b[?25hDownloading dash_core_components-2.0.0-py3-none-any.whl (3.8 kB)\n",
            "Downloading dash_html_components-2.0.0-py3-none-any.whl (4.1 kB)\n",
            "Downloading dash_table-5.0.0-py3-none-any.whl (3.9 kB)\n",
            "Downloading dash_extensions-0.1.13-py3-none-any.whl (1.4 MB)\n",
            "\u001b[2K   \u001b[90m━━━━━━━━━━━━━━━━━━━━━━━━━━━━━━━━━━━━━━━━\u001b[0m \u001b[32m1.4/1.4 MB\u001b[0m \u001b[31m46.7 MB/s\u001b[0m eta \u001b[36m0:00:00\u001b[0m\n",
            "\u001b[?25hDownloading Flask_Caching-2.0.2-py3-none-any.whl (28 kB)\n",
            "Downloading dash_iconify-0.1.2-py3-none-any.whl (18 kB)\n",
            "Downloading dash_mantine_components-0.11.1-py3-none-any.whl (443 kB)\n",
            "\u001b[2K   \u001b[90m━━━━━━━━━━━━━━━━━━━━━━━━━━━━━━━━━━━━━━━━\u001b[0m \u001b[32m443.1/443.1 kB\u001b[0m \u001b[31m24.2 MB/s\u001b[0m eta \u001b[36m0:00:00\u001b[0m\n",
            "\u001b[?25hDownloading hdbscan-0.8.38.post1-cp310-cp310-manylinux_2_17_x86_64.manylinux2014_x86_64.whl (4.2 MB)\n",
            "\u001b[2K   \u001b[90m━━━━━━━━━━━━━━━━━━━━━━━━━━━━━━━━━━━━━━━━\u001b[0m \u001b[32m4.2/4.2 MB\u001b[0m \u001b[31m71.2 MB/s\u001b[0m eta \u001b[36m0:00:00\u001b[0m\n",
            "\u001b[?25hDownloading kaleido-0.2.1-py2.py3-none-manylinux1_x86_64.whl (79.9 MB)\n",
            "\u001b[2K   \u001b[90m━━━━━━━━━━━━━━━━━━━━━━━━━━━━━━━━━━━━━━━━\u001b[0m \u001b[32m79.9/79.9 MB\u001b[0m \u001b[31m7.0 MB/s\u001b[0m eta \u001b[36m0:00:00\u001b[0m\n",
            "\u001b[?25hDownloading neofuzz-0.1.3-py3-none-any.whl (8.5 kB)\n",
            "Downloading plotly-5.14.1-py2.py3-none-any.whl (15.3 MB)\n",
            "\u001b[2K   \u001b[90m━━━━━━━━━━━━━━━━━━━━━━━━━━━━━━━━━━━━━━━━\u001b[0m \u001b[32m15.3/15.3 MB\u001b[0m \u001b[31m68.7 MB/s\u001b[0m eta \u001b[36m0:00:00\u001b[0m\n",
            "\u001b[?25hDownloading scikit_learn-1.2.2-cp310-cp310-manylinux_2_17_x86_64.manylinux2014_x86_64.whl (9.6 MB)\n",
            "\u001b[2K   \u001b[90m━━━━━━━━━━━━━━━━━━━━━━━━━━━━━━━━━━━━━━━━\u001b[0m \u001b[32m9.6/9.6 MB\u001b[0m \u001b[31m72.7 MB/s\u001b[0m eta \u001b[36m0:00:00\u001b[0m\n",
            "\u001b[?25hDownloading umap_learn-0.5.6-py3-none-any.whl (85 kB)\n",
            "\u001b[2K   \u001b[90m━━━━━━━━━━━━━━━━━━━━━━━━━━━━━━━━━━━━━━━━\u001b[0m \u001b[32m85.7/85.7 kB\u001b[0m \u001b[31m4.9 MB/s\u001b[0m eta \u001b[36m0:00:00\u001b[0m\n",
            "\u001b[?25hDownloading more_itertools-9.1.0-py3-none-any.whl (54 kB)\n",
            "\u001b[2K   \u001b[90m━━━━━━━━━━━━━━━━━━━━━━━━━━━━━━━━━━━━━━━━\u001b[0m \u001b[32m54.2/54.2 kB\u001b[0m \u001b[31m3.0 MB/s\u001b[0m eta \u001b[36m0:00:00\u001b[0m\n",
            "\u001b[?25hDownloading pynndescent-0.5.13-py3-none-any.whl (56 kB)\n",
            "\u001b[2K   \u001b[90m━━━━━━━━━━━━━━━━━━━━━━━━━━━━━━━━━━━━━━━━\u001b[0m \u001b[32m56.9/56.9 kB\u001b[0m \u001b[31m3.8 MB/s\u001b[0m eta \u001b[36m0:00:00\u001b[0m\n",
            "\u001b[?25hDownloading Werkzeug-2.2.3-py3-none-any.whl (233 kB)\n",
            "\u001b[2K   \u001b[90m━━━━━━━━━━━━━━━━━━━━━━━━━━━━━━━━━━━━━━━━\u001b[0m \u001b[32m233.6/233.6 kB\u001b[0m \u001b[31m12.2 MB/s\u001b[0m eta \u001b[36m0:00:00\u001b[0m\n",
            "\u001b[?25hDownloading ansi2html-1.9.2-py3-none-any.whl (17 kB)\n",
            "Downloading retrying-1.3.4-py3-none-any.whl (11 kB)\n",
            "Downloading cachelib-0.9.0-py3-none-any.whl (15 kB)\n",
            "Building wheels for collected packages: jsbeautifier, editorconfig\n",
            "  Building wheel for jsbeautifier (pyproject.toml) ... \u001b[?25l\u001b[?25hdone\n",
            "  Created wheel for jsbeautifier: filename=jsbeautifier-1.15.1-py3-none-any.whl size=94709 sha256=cf605e10227913f8860ef90e8036a9235d1a8584573371b9c51cce11ec8493c4\n",
            "  Stored in directory: /root/.cache/pip/wheels/86/77/ec/382f886d800cca361b8be5fff271530ec7e878be784adc58c3\n",
            "  Building wheel for editorconfig (pyproject.toml) ... \u001b[?25l\u001b[?25hdone\n",
            "  Created wheel for editorconfig: filename=EditorConfig-0.12.4-py3-none-any.whl size=16361 sha256=50309bfb5139c410a94466387f0efdeb8e66c888cb2c06b62ab03fc06668b76f\n",
            "  Stored in directory: /root/.cache/pip/wheels/3a/c3/5a/39be63657db73890b21019a40a9f981b989af7d05ac7aeec8a\n",
            "Successfully built jsbeautifier editorconfig\n",
            "Installing collected packages: kaleido, editorconfig, dash-table, dash-mantine-components, dash-iconify, dash-html-components, dash-core-components, Werkzeug, retrying, plotly, more-itertools, jsbeautifier, cachelib, ansi2html, scikit-learn, pynndescent, hdbscan, Flask-Caching, dash, umap-learn, neofuzz, dash-extensions, embedding-explorer\n",
            "  Attempting uninstall: Werkzeug\n",
            "    Found existing installation: Werkzeug 3.0.3\n",
            "    Uninstalling Werkzeug-3.0.3:\n",
            "      Successfully uninstalled Werkzeug-3.0.3\n",
            "  Attempting uninstall: plotly\n",
            "    Found existing installation: plotly 5.15.0\n",
            "    Uninstalling plotly-5.15.0:\n",
            "      Successfully uninstalled plotly-5.15.0\n",
            "  Attempting uninstall: more-itertools\n",
            "    Found existing installation: more-itertools 10.3.0\n",
            "    Uninstalling more-itertools-10.3.0:\n",
            "      Successfully uninstalled more-itertools-10.3.0\n",
            "  Attempting uninstall: scikit-learn\n",
            "    Found existing installation: scikit-learn 1.3.2\n",
            "    Uninstalling scikit-learn-1.3.2:\n",
            "      Successfully uninstalled scikit-learn-1.3.2\n",
            "Successfully installed Flask-Caching-2.0.2 Werkzeug-2.2.3 ansi2html-1.9.2 cachelib-0.9.0 dash-2.11.1 dash-core-components-2.0.0 dash-extensions-0.1.13 dash-html-components-2.0.0 dash-iconify-0.1.2 dash-mantine-components-0.11.1 dash-table-5.0.0 editorconfig-0.12.4 embedding-explorer-0.5.3 hdbscan-0.8.38.post1 jsbeautifier-1.15.1 kaleido-0.2.1 more-itertools-9.1.0 neofuzz-0.1.3 plotly-5.14.1 pynndescent-0.5.13 retrying-1.3.4 scikit-learn-1.2.2 umap-learn-0.5.6\n"
          ]
        }
      ]
    },
    {
      "cell_type": "code",
      "source": [
        "pip install embetter[text]"
      ],
      "metadata": {
        "id": "0STspKXHjz5z",
        "colab": {
          "base_uri": "https://localhost:8080/"
        },
        "outputId": "eb18c02a-98e6-4b98-a4e3-b590430b5cc6",
        "collapsed": true
      },
      "execution_count": null,
      "outputs": [
        {
          "output_type": "stream",
          "name": "stdout",
          "text": [
            "Collecting embetter[text]\n",
            "  Downloading embetter-0.6.2-py2.py3-none-any.whl.metadata (10 kB)\n",
            "Requirement already satisfied: scikit-learn>=1.0.0 in /usr/local/lib/python3.10/dist-packages (from embetter[text]) (1.2.2)\n",
            "Requirement already satisfied: pandas>=1.0.0 in /usr/local/lib/python3.10/dist-packages (from embetter[text]) (2.1.4)\n",
            "Collecting diskcache>=5.6.1 (from embetter[text])\n",
            "  Downloading diskcache-5.6.3-py3-none-any.whl.metadata (20 kB)\n",
            "Collecting skops>=0.8.0 (from embetter[text])\n",
            "  Downloading skops-0.10.0-py3-none-any.whl.metadata (5.8 kB)\n",
            "Collecting sentence-transformers>=2.2.2 (from embetter[text])\n",
            "  Downloading sentence_transformers-3.0.1-py3-none-any.whl.metadata (10 kB)\n",
            "Collecting sense2vec==2.0.0 (from embetter[text])\n",
            "  Downloading sense2vec-2.0.0-py2.py3-none-any.whl.metadata (54 kB)\n",
            "\u001b[2K     \u001b[90m━━━━━━━━━━━━━━━━━━━━━━━━━━━━━━━━━━━━━━━━\u001b[0m \u001b[32m54.3/54.3 kB\u001b[0m \u001b[31m1.8 MB/s\u001b[0m eta \u001b[36m0:00:00\u001b[0m\n",
            "\u001b[?25hCollecting bpemb>=0.3.3 (from embetter[text])\n",
            "  Downloading bpemb-0.3.5-py3-none-any.whl.metadata (19 kB)\n",
            "Requirement already satisfied: gensim>=4.3.1 in /usr/local/lib/python3.10/dist-packages (from embetter[text]) (4.3.3)\n",
            "Collecting scipy<1.13.0 (from embetter[text])\n",
            "  Downloading scipy-1.12.0-cp310-cp310-manylinux_2_17_x86_64.manylinux2014_x86_64.whl.metadata (60 kB)\n",
            "\u001b[2K     \u001b[90m━━━━━━━━━━━━━━━━━━━━━━━━━━━━━━━━━━━━━━━━\u001b[0m \u001b[32m60.4/60.4 kB\u001b[0m \u001b[31m4.3 MB/s\u001b[0m eta \u001b[36m0:00:00\u001b[0m\n",
            "\u001b[?25hCollecting keras-nlp>=0.6.0 (from embetter[text])\n",
            "  Downloading keras_nlp-0.14.4-py3-none-any.whl.metadata (6.8 kB)\n",
            "Requirement already satisfied: spacy<4.0.0,>=3.0.0 in /usr/local/lib/python3.10/dist-packages (from sense2vec==2.0.0->embetter[text]) (3.7.5)\n",
            "Collecting wasabi<1.1.0,>=0.8.1 (from sense2vec==2.0.0->embetter[text])\n",
            "  Downloading wasabi-0.10.1-py3-none-any.whl.metadata (28 kB)\n",
            "Requirement already satisfied: srsly<3.0.0,>=2.4.0 in /usr/local/lib/python3.10/dist-packages (from sense2vec==2.0.0->embetter[text]) (2.4.8)\n",
            "Requirement already satisfied: catalogue<2.1.0,>=2.0.1 in /usr/local/lib/python3.10/dist-packages (from sense2vec==2.0.0->embetter[text]) (2.0.10)\n",
            "Requirement already satisfied: numpy>=1.15.0 in /usr/local/lib/python3.10/dist-packages (from sense2vec==2.0.0->embetter[text]) (1.26.4)\n",
            "Requirement already satisfied: requests in /usr/local/lib/python3.10/dist-packages (from bpemb>=0.3.3->embetter[text]) (2.32.3)\n",
            "Requirement already satisfied: sentencepiece in /usr/local/lib/python3.10/dist-packages (from bpemb>=0.3.3->embetter[text]) (0.1.99)\n",
            "Requirement already satisfied: tqdm in /usr/local/lib/python3.10/dist-packages (from bpemb>=0.3.3->embetter[text]) (4.66.5)\n",
            "Requirement already satisfied: smart-open>=1.8.1 in /usr/local/lib/python3.10/dist-packages (from gensim>=4.3.1->embetter[text]) (7.0.4)\n",
            "Requirement already satisfied: absl-py in /usr/local/lib/python3.10/dist-packages (from keras-nlp>=0.6.0->embetter[text]) (1.4.0)\n",
            "Requirement already satisfied: packaging in /usr/local/lib/python3.10/dist-packages (from keras-nlp>=0.6.0->embetter[text]) (24.1)\n",
            "Requirement already satisfied: regex in /usr/local/lib/python3.10/dist-packages (from keras-nlp>=0.6.0->embetter[text]) (2024.5.15)\n",
            "Requirement already satisfied: rich in /usr/local/lib/python3.10/dist-packages (from keras-nlp>=0.6.0->embetter[text]) (13.7.1)\n",
            "Requirement already satisfied: kagglehub in /usr/local/lib/python3.10/dist-packages (from keras-nlp>=0.6.0->embetter[text]) (0.2.9)\n",
            "Collecting tensorflow-text (from keras-nlp>=0.6.0->embetter[text])\n",
            "  Downloading tensorflow_text-2.17.0-cp310-cp310-manylinux_2_17_x86_64.manylinux2014_x86_64.whl.metadata (1.8 kB)\n",
            "Requirement already satisfied: python-dateutil>=2.8.2 in /usr/local/lib/python3.10/dist-packages (from pandas>=1.0.0->embetter[text]) (2.8.2)\n",
            "Requirement already satisfied: pytz>=2020.1 in /usr/local/lib/python3.10/dist-packages (from pandas>=1.0.0->embetter[text]) (2024.1)\n",
            "Requirement already satisfied: tzdata>=2022.1 in /usr/local/lib/python3.10/dist-packages (from pandas>=1.0.0->embetter[text]) (2024.1)\n",
            "Requirement already satisfied: joblib>=1.1.1 in /usr/local/lib/python3.10/dist-packages (from scikit-learn>=1.0.0->embetter[text]) (1.4.2)\n",
            "Requirement already satisfied: threadpoolctl>=2.0.0 in /usr/local/lib/python3.10/dist-packages (from scikit-learn>=1.0.0->embetter[text]) (3.5.0)\n",
            "Requirement already satisfied: transformers<5.0.0,>=4.34.0 in /usr/local/lib/python3.10/dist-packages (from sentence-transformers>=2.2.2->embetter[text]) (4.42.4)\n",
            "Requirement already satisfied: torch>=1.11.0 in /usr/local/lib/python3.10/dist-packages (from sentence-transformers>=2.2.2->embetter[text]) (2.3.1+cu121)\n",
            "Requirement already satisfied: huggingface-hub>=0.15.1 in /usr/local/lib/python3.10/dist-packages (from sentence-transformers>=2.2.2->embetter[text]) (0.23.5)\n",
            "Requirement already satisfied: Pillow in /usr/local/lib/python3.10/dist-packages (from sentence-transformers>=2.2.2->embetter[text]) (9.4.0)\n",
            "Requirement already satisfied: tabulate>=0.8.8 in /usr/local/lib/python3.10/dist-packages (from skops>=0.8.0->embetter[text]) (0.9.0)\n",
            "Requirement already satisfied: filelock in /usr/local/lib/python3.10/dist-packages (from huggingface-hub>=0.15.1->sentence-transformers>=2.2.2->embetter[text]) (3.15.4)\n",
            "Requirement already satisfied: fsspec>=2023.5.0 in /usr/local/lib/python3.10/dist-packages (from huggingface-hub>=0.15.1->sentence-transformers>=2.2.2->embetter[text]) (2024.6.1)\n",
            "Requirement already satisfied: pyyaml>=5.1 in /usr/local/lib/python3.10/dist-packages (from huggingface-hub>=0.15.1->sentence-transformers>=2.2.2->embetter[text]) (6.0.2)\n",
            "Requirement already satisfied: typing-extensions>=3.7.4.3 in /usr/local/lib/python3.10/dist-packages (from huggingface-hub>=0.15.1->sentence-transformers>=2.2.2->embetter[text]) (4.12.2)\n",
            "Requirement already satisfied: six>=1.5 in /usr/local/lib/python3.10/dist-packages (from python-dateutil>=2.8.2->pandas>=1.0.0->embetter[text]) (1.16.0)\n",
            "Requirement already satisfied: wrapt in /usr/local/lib/python3.10/dist-packages (from smart-open>=1.8.1->gensim>=4.3.1->embetter[text]) (1.16.0)\n",
            "Requirement already satisfied: spacy-legacy<3.1.0,>=3.0.11 in /usr/local/lib/python3.10/dist-packages (from spacy<4.0.0,>=3.0.0->sense2vec==2.0.0->embetter[text]) (3.0.12)\n",
            "Requirement already satisfied: spacy-loggers<2.0.0,>=1.0.0 in /usr/local/lib/python3.10/dist-packages (from spacy<4.0.0,>=3.0.0->sense2vec==2.0.0->embetter[text]) (1.0.5)\n",
            "Requirement already satisfied: murmurhash<1.1.0,>=0.28.0 in /usr/local/lib/python3.10/dist-packages (from spacy<4.0.0,>=3.0.0->sense2vec==2.0.0->embetter[text]) (1.0.10)\n",
            "Requirement already satisfied: cymem<2.1.0,>=2.0.2 in /usr/local/lib/python3.10/dist-packages (from spacy<4.0.0,>=3.0.0->sense2vec==2.0.0->embetter[text]) (2.0.8)\n",
            "Requirement already satisfied: preshed<3.1.0,>=3.0.2 in /usr/local/lib/python3.10/dist-packages (from spacy<4.0.0,>=3.0.0->sense2vec==2.0.0->embetter[text]) (3.0.9)\n",
            "Requirement already satisfied: thinc<8.3.0,>=8.2.2 in /usr/local/lib/python3.10/dist-packages (from spacy<4.0.0,>=3.0.0->sense2vec==2.0.0->embetter[text]) (8.2.5)\n",
            "Requirement already satisfied: weasel<0.5.0,>=0.1.0 in /usr/local/lib/python3.10/dist-packages (from spacy<4.0.0,>=3.0.0->sense2vec==2.0.0->embetter[text]) (0.4.1)\n",
            "Requirement already satisfied: typer<1.0.0,>=0.3.0 in /usr/local/lib/python3.10/dist-packages (from spacy<4.0.0,>=3.0.0->sense2vec==2.0.0->embetter[text]) (0.12.3)\n",
            "Requirement already satisfied: pydantic!=1.8,!=1.8.1,<3.0.0,>=1.7.4 in /usr/local/lib/python3.10/dist-packages (from spacy<4.0.0,>=3.0.0->sense2vec==2.0.0->embetter[text]) (2.8.2)\n",
            "Requirement already satisfied: jinja2 in /usr/local/lib/python3.10/dist-packages (from spacy<4.0.0,>=3.0.0->sense2vec==2.0.0->embetter[text]) (3.1.4)\n",
            "Requirement already satisfied: setuptools in /usr/local/lib/python3.10/dist-packages (from spacy<4.0.0,>=3.0.0->sense2vec==2.0.0->embetter[text]) (71.0.4)\n",
            "Requirement already satisfied: langcodes<4.0.0,>=3.2.0 in /usr/local/lib/python3.10/dist-packages (from spacy<4.0.0,>=3.0.0->sense2vec==2.0.0->embetter[text]) (3.4.0)\n",
            "Requirement already satisfied: charset-normalizer<4,>=2 in /usr/local/lib/python3.10/dist-packages (from requests->bpemb>=0.3.3->embetter[text]) (3.3.2)\n",
            "Requirement already satisfied: idna<4,>=2.5 in /usr/local/lib/python3.10/dist-packages (from requests->bpemb>=0.3.3->embetter[text]) (3.7)\n",
            "Requirement already satisfied: urllib3<3,>=1.21.1 in /usr/local/lib/python3.10/dist-packages (from requests->bpemb>=0.3.3->embetter[text]) (2.0.7)\n",
            "Requirement already satisfied: certifi>=2017.4.17 in /usr/local/lib/python3.10/dist-packages (from requests->bpemb>=0.3.3->embetter[text]) (2024.7.4)\n",
            "Requirement already satisfied: sympy in /usr/local/lib/python3.10/dist-packages (from torch>=1.11.0->sentence-transformers>=2.2.2->embetter[text]) (1.13.2)\n",
            "Requirement already satisfied: networkx in /usr/local/lib/python3.10/dist-packages (from torch>=1.11.0->sentence-transformers>=2.2.2->embetter[text]) (3.3)\n",
            "Collecting nvidia-cuda-nvrtc-cu12==12.1.105 (from torch>=1.11.0->sentence-transformers>=2.2.2->embetter[text])\n",
            "  Using cached nvidia_cuda_nvrtc_cu12-12.1.105-py3-none-manylinux1_x86_64.whl.metadata (1.5 kB)\n",
            "Collecting nvidia-cuda-runtime-cu12==12.1.105 (from torch>=1.11.0->sentence-transformers>=2.2.2->embetter[text])\n",
            "  Using cached nvidia_cuda_runtime_cu12-12.1.105-py3-none-manylinux1_x86_64.whl.metadata (1.5 kB)\n",
            "Collecting nvidia-cuda-cupti-cu12==12.1.105 (from torch>=1.11.0->sentence-transformers>=2.2.2->embetter[text])\n",
            "  Using cached nvidia_cuda_cupti_cu12-12.1.105-py3-none-manylinux1_x86_64.whl.metadata (1.6 kB)\n",
            "Collecting nvidia-cudnn-cu12==8.9.2.26 (from torch>=1.11.0->sentence-transformers>=2.2.2->embetter[text])\n",
            "  Using cached nvidia_cudnn_cu12-8.9.2.26-py3-none-manylinux1_x86_64.whl.metadata (1.6 kB)\n",
            "Collecting nvidia-cublas-cu12==12.1.3.1 (from torch>=1.11.0->sentence-transformers>=2.2.2->embetter[text])\n",
            "  Using cached nvidia_cublas_cu12-12.1.3.1-py3-none-manylinux1_x86_64.whl.metadata (1.5 kB)\n",
            "Collecting nvidia-cufft-cu12==11.0.2.54 (from torch>=1.11.0->sentence-transformers>=2.2.2->embetter[text])\n",
            "  Using cached nvidia_cufft_cu12-11.0.2.54-py3-none-manylinux1_x86_64.whl.metadata (1.5 kB)\n",
            "Collecting nvidia-curand-cu12==10.3.2.106 (from torch>=1.11.0->sentence-transformers>=2.2.2->embetter[text])\n",
            "  Using cached nvidia_curand_cu12-10.3.2.106-py3-none-manylinux1_x86_64.whl.metadata (1.5 kB)\n",
            "Collecting nvidia-cusolver-cu12==11.4.5.107 (from torch>=1.11.0->sentence-transformers>=2.2.2->embetter[text])\n",
            "  Using cached nvidia_cusolver_cu12-11.4.5.107-py3-none-manylinux1_x86_64.whl.metadata (1.6 kB)\n",
            "Collecting nvidia-cusparse-cu12==12.1.0.106 (from torch>=1.11.0->sentence-transformers>=2.2.2->embetter[text])\n",
            "  Using cached nvidia_cusparse_cu12-12.1.0.106-py3-none-manylinux1_x86_64.whl.metadata (1.6 kB)\n",
            "Collecting nvidia-nccl-cu12==2.20.5 (from torch>=1.11.0->sentence-transformers>=2.2.2->embetter[text])\n",
            "  Using cached nvidia_nccl_cu12-2.20.5-py3-none-manylinux2014_x86_64.whl.metadata (1.8 kB)\n",
            "Collecting nvidia-nvtx-cu12==12.1.105 (from torch>=1.11.0->sentence-transformers>=2.2.2->embetter[text])\n",
            "  Using cached nvidia_nvtx_cu12-12.1.105-py3-none-manylinux1_x86_64.whl.metadata (1.7 kB)\n",
            "Requirement already satisfied: triton==2.3.1 in /usr/local/lib/python3.10/dist-packages (from torch>=1.11.0->sentence-transformers>=2.2.2->embetter[text]) (2.3.1)\n",
            "Collecting nvidia-nvjitlink-cu12 (from nvidia-cusolver-cu12==11.4.5.107->torch>=1.11.0->sentence-transformers>=2.2.2->embetter[text])\n",
            "  Using cached nvidia_nvjitlink_cu12-12.6.20-py3-none-manylinux2014_x86_64.whl.metadata (1.5 kB)\n",
            "Requirement already satisfied: safetensors>=0.4.1 in /usr/local/lib/python3.10/dist-packages (from transformers<5.0.0,>=4.34.0->sentence-transformers>=2.2.2->embetter[text]) (0.4.4)\n",
            "Requirement already satisfied: tokenizers<0.20,>=0.19 in /usr/local/lib/python3.10/dist-packages (from transformers<5.0.0,>=4.34.0->sentence-transformers>=2.2.2->embetter[text]) (0.19.1)\n",
            "Requirement already satisfied: markdown-it-py>=2.2.0 in /usr/local/lib/python3.10/dist-packages (from rich->keras-nlp>=0.6.0->embetter[text]) (3.0.0)\n",
            "Requirement already satisfied: pygments<3.0.0,>=2.13.0 in /usr/local/lib/python3.10/dist-packages (from rich->keras-nlp>=0.6.0->embetter[text]) (2.16.1)\n",
            "Requirement already satisfied: tensorflow<2.18,>=2.17.0 in /usr/local/lib/python3.10/dist-packages (from tensorflow-text->keras-nlp>=0.6.0->embetter[text]) (2.17.0)\n",
            "Requirement already satisfied: language-data>=1.2 in /usr/local/lib/python3.10/dist-packages (from langcodes<4.0.0,>=3.2.0->spacy<4.0.0,>=3.0.0->sense2vec==2.0.0->embetter[text]) (1.2.0)\n",
            "Requirement already satisfied: mdurl~=0.1 in /usr/local/lib/python3.10/dist-packages (from markdown-it-py>=2.2.0->rich->keras-nlp>=0.6.0->embetter[text]) (0.1.2)\n",
            "Requirement already satisfied: annotated-types>=0.4.0 in /usr/local/lib/python3.10/dist-packages (from pydantic!=1.8,!=1.8.1,<3.0.0,>=1.7.4->spacy<4.0.0,>=3.0.0->sense2vec==2.0.0->embetter[text]) (0.7.0)\n",
            "Requirement already satisfied: pydantic-core==2.20.1 in /usr/local/lib/python3.10/dist-packages (from pydantic!=1.8,!=1.8.1,<3.0.0,>=1.7.4->spacy<4.0.0,>=3.0.0->sense2vec==2.0.0->embetter[text]) (2.20.1)\n",
            "Requirement already satisfied: astunparse>=1.6.0 in /usr/local/lib/python3.10/dist-packages (from tensorflow<2.18,>=2.17.0->tensorflow-text->keras-nlp>=0.6.0->embetter[text]) (1.6.3)\n",
            "Requirement already satisfied: flatbuffers>=24.3.25 in /usr/local/lib/python3.10/dist-packages (from tensorflow<2.18,>=2.17.0->tensorflow-text->keras-nlp>=0.6.0->embetter[text]) (24.3.25)\n",
            "Requirement already satisfied: gast!=0.5.0,!=0.5.1,!=0.5.2,>=0.2.1 in /usr/local/lib/python3.10/dist-packages (from tensorflow<2.18,>=2.17.0->tensorflow-text->keras-nlp>=0.6.0->embetter[text]) (0.6.0)\n",
            "Requirement already satisfied: google-pasta>=0.1.1 in /usr/local/lib/python3.10/dist-packages (from tensorflow<2.18,>=2.17.0->tensorflow-text->keras-nlp>=0.6.0->embetter[text]) (0.2.0)\n",
            "Requirement already satisfied: h5py>=3.10.0 in /usr/local/lib/python3.10/dist-packages (from tensorflow<2.18,>=2.17.0->tensorflow-text->keras-nlp>=0.6.0->embetter[text]) (3.11.0)\n",
            "Requirement already satisfied: libclang>=13.0.0 in /usr/local/lib/python3.10/dist-packages (from tensorflow<2.18,>=2.17.0->tensorflow-text->keras-nlp>=0.6.0->embetter[text]) (18.1.1)\n",
            "Requirement already satisfied: ml-dtypes<0.5.0,>=0.3.1 in /usr/local/lib/python3.10/dist-packages (from tensorflow<2.18,>=2.17.0->tensorflow-text->keras-nlp>=0.6.0->embetter[text]) (0.4.0)\n",
            "Requirement already satisfied: opt-einsum>=2.3.2 in /usr/local/lib/python3.10/dist-packages (from tensorflow<2.18,>=2.17.0->tensorflow-text->keras-nlp>=0.6.0->embetter[text]) (3.3.0)\n",
            "Requirement already satisfied: protobuf!=4.21.0,!=4.21.1,!=4.21.2,!=4.21.3,!=4.21.4,!=4.21.5,<5.0.0dev,>=3.20.3 in /usr/local/lib/python3.10/dist-packages (from tensorflow<2.18,>=2.17.0->tensorflow-text->keras-nlp>=0.6.0->embetter[text]) (3.20.3)\n",
            "Requirement already satisfied: termcolor>=1.1.0 in /usr/local/lib/python3.10/dist-packages (from tensorflow<2.18,>=2.17.0->tensorflow-text->keras-nlp>=0.6.0->embetter[text]) (2.4.0)\n",
            "Requirement already satisfied: grpcio<2.0,>=1.24.3 in /usr/local/lib/python3.10/dist-packages (from tensorflow<2.18,>=2.17.0->tensorflow-text->keras-nlp>=0.6.0->embetter[text]) (1.64.1)\n",
            "Requirement already satisfied: tensorboard<2.18,>=2.17 in /usr/local/lib/python3.10/dist-packages (from tensorflow<2.18,>=2.17.0->tensorflow-text->keras-nlp>=0.6.0->embetter[text]) (2.17.0)\n",
            "Requirement already satisfied: keras>=3.2.0 in /usr/local/lib/python3.10/dist-packages (from tensorflow<2.18,>=2.17.0->tensorflow-text->keras-nlp>=0.6.0->embetter[text]) (3.4.1)\n",
            "Requirement already satisfied: tensorflow-io-gcs-filesystem>=0.23.1 in /usr/local/lib/python3.10/dist-packages (from tensorflow<2.18,>=2.17.0->tensorflow-text->keras-nlp>=0.6.0->embetter[text]) (0.37.1)\n",
            "Requirement already satisfied: blis<0.8.0,>=0.7.8 in /usr/local/lib/python3.10/dist-packages (from thinc<8.3.0,>=8.2.2->spacy<4.0.0,>=3.0.0->sense2vec==2.0.0->embetter[text]) (0.7.11)\n",
            "Requirement already satisfied: confection<1.0.0,>=0.0.1 in /usr/local/lib/python3.10/dist-packages (from thinc<8.3.0,>=8.2.2->spacy<4.0.0,>=3.0.0->sense2vec==2.0.0->embetter[text]) (0.1.5)\n",
            "Requirement already satisfied: click>=8.0.0 in /usr/local/lib/python3.10/dist-packages (from typer<1.0.0,>=0.3.0->spacy<4.0.0,>=3.0.0->sense2vec==2.0.0->embetter[text]) (8.1.7)\n",
            "Requirement already satisfied: shellingham>=1.3.0 in /usr/local/lib/python3.10/dist-packages (from typer<1.0.0,>=0.3.0->spacy<4.0.0,>=3.0.0->sense2vec==2.0.0->embetter[text]) (1.5.4)\n",
            "Requirement already satisfied: cloudpathlib<1.0.0,>=0.7.0 in /usr/local/lib/python3.10/dist-packages (from weasel<0.5.0,>=0.1.0->spacy<4.0.0,>=3.0.0->sense2vec==2.0.0->embetter[text]) (0.18.1)\n",
            "Requirement already satisfied: MarkupSafe>=2.0 in /usr/local/lib/python3.10/dist-packages (from jinja2->spacy<4.0.0,>=3.0.0->sense2vec==2.0.0->embetter[text]) (2.1.5)\n",
            "Requirement already satisfied: mpmath<1.4,>=1.1.0 in /usr/local/lib/python3.10/dist-packages (from sympy->torch>=1.11.0->sentence-transformers>=2.2.2->embetter[text]) (1.3.0)\n",
            "Requirement already satisfied: wheel<1.0,>=0.23.0 in /usr/local/lib/python3.10/dist-packages (from astunparse>=1.6.0->tensorflow<2.18,>=2.17.0->tensorflow-text->keras-nlp>=0.6.0->embetter[text]) (0.44.0)\n",
            "Requirement already satisfied: namex in /usr/local/lib/python3.10/dist-packages (from keras>=3.2.0->tensorflow<2.18,>=2.17.0->tensorflow-text->keras-nlp>=0.6.0->embetter[text]) (0.0.8)\n",
            "Requirement already satisfied: optree in /usr/local/lib/python3.10/dist-packages (from keras>=3.2.0->tensorflow<2.18,>=2.17.0->tensorflow-text->keras-nlp>=0.6.0->embetter[text]) (0.12.1)\n",
            "Requirement already satisfied: marisa-trie>=0.7.7 in /usr/local/lib/python3.10/dist-packages (from language-data>=1.2->langcodes<4.0.0,>=3.2.0->spacy<4.0.0,>=3.0.0->sense2vec==2.0.0->embetter[text]) (1.2.0)\n",
            "Requirement already satisfied: markdown>=2.6.8 in /usr/local/lib/python3.10/dist-packages (from tensorboard<2.18,>=2.17->tensorflow<2.18,>=2.17.0->tensorflow-text->keras-nlp>=0.6.0->embetter[text]) (3.6)\n",
            "Requirement already satisfied: tensorboard-data-server<0.8.0,>=0.7.0 in /usr/local/lib/python3.10/dist-packages (from tensorboard<2.18,>=2.17->tensorflow<2.18,>=2.17.0->tensorflow-text->keras-nlp>=0.6.0->embetter[text]) (0.7.2)\n",
            "Requirement already satisfied: werkzeug>=1.0.1 in /usr/local/lib/python3.10/dist-packages (from tensorboard<2.18,>=2.17->tensorflow<2.18,>=2.17.0->tensorflow-text->keras-nlp>=0.6.0->embetter[text]) (2.2.3)\n",
            "Downloading sense2vec-2.0.0-py2.py3-none-any.whl (39 kB)\n",
            "Downloading bpemb-0.3.5-py3-none-any.whl (19 kB)\n",
            "Downloading diskcache-5.6.3-py3-none-any.whl (45 kB)\n",
            "\u001b[2K   \u001b[90m━━━━━━━━━━━━━━━━━━━━━━━━━━━━━━━━━━━━━━━━\u001b[0m \u001b[32m45.5/45.5 kB\u001b[0m \u001b[31m2.0 MB/s\u001b[0m eta \u001b[36m0:00:00\u001b[0m\n",
            "\u001b[?25hDownloading keras_nlp-0.14.4-py3-none-any.whl (572 kB)\n",
            "\u001b[2K   \u001b[90m━━━━━━━━━━━━━━━━━━━━━━━━━━━━━━━━━━━━━━━━\u001b[0m \u001b[32m572.2/572.2 kB\u001b[0m \u001b[31m17.5 MB/s\u001b[0m eta \u001b[36m0:00:00\u001b[0m\n",
            "\u001b[?25hDownloading scipy-1.12.0-cp310-cp310-manylinux_2_17_x86_64.manylinux2014_x86_64.whl (38.4 MB)\n",
            "\u001b[2K   \u001b[90m━━━━━━━━━━━━━━━━━━━━━━━━━━━━━━━━━━━━━━━━\u001b[0m \u001b[32m38.4/38.4 MB\u001b[0m \u001b[31m26.7 MB/s\u001b[0m eta \u001b[36m0:00:00\u001b[0m\n",
            "\u001b[?25hDownloading sentence_transformers-3.0.1-py3-none-any.whl (227 kB)\n",
            "\u001b[2K   \u001b[90m━━━━━━━━━━━━━━━━━━━━━━━━━━━━━━━━━━━━━━━━\u001b[0m \u001b[32m227.1/227.1 kB\u001b[0m \u001b[31m11.0 MB/s\u001b[0m eta \u001b[36m0:00:00\u001b[0m\n",
            "\u001b[?25hDownloading skops-0.10.0-py3-none-any.whl (121 kB)\n",
            "\u001b[2K   \u001b[90m━━━━━━━━━━━━━━━━━━━━━━━━━━━━━━━━━━━━━━━━\u001b[0m \u001b[32m121.9/121.9 kB\u001b[0m \u001b[31m5.0 MB/s\u001b[0m eta \u001b[36m0:00:00\u001b[0m\n",
            "\u001b[?25hDownloading embetter-0.6.2-py2.py3-none-any.whl (38 kB)\n",
            "Using cached nvidia_cublas_cu12-12.1.3.1-py3-none-manylinux1_x86_64.whl (410.6 MB)\n",
            "Using cached nvidia_cuda_cupti_cu12-12.1.105-py3-none-manylinux1_x86_64.whl (14.1 MB)\n",
            "Using cached nvidia_cuda_nvrtc_cu12-12.1.105-py3-none-manylinux1_x86_64.whl (23.7 MB)\n",
            "Using cached nvidia_cuda_runtime_cu12-12.1.105-py3-none-manylinux1_x86_64.whl (823 kB)\n",
            "Using cached nvidia_cudnn_cu12-8.9.2.26-py3-none-manylinux1_x86_64.whl (731.7 MB)\n",
            "Using cached nvidia_cufft_cu12-11.0.2.54-py3-none-manylinux1_x86_64.whl (121.6 MB)\n",
            "Using cached nvidia_curand_cu12-10.3.2.106-py3-none-manylinux1_x86_64.whl (56.5 MB)\n",
            "Using cached nvidia_cusolver_cu12-11.4.5.107-py3-none-manylinux1_x86_64.whl (124.2 MB)\n",
            "Using cached nvidia_cusparse_cu12-12.1.0.106-py3-none-manylinux1_x86_64.whl (196.0 MB)\n",
            "Using cached nvidia_nccl_cu12-2.20.5-py3-none-manylinux2014_x86_64.whl (176.2 MB)\n",
            "Using cached nvidia_nvtx_cu12-12.1.105-py3-none-manylinux1_x86_64.whl (99 kB)\n",
            "Downloading wasabi-0.10.1-py3-none-any.whl (26 kB)\n",
            "Downloading tensorflow_text-2.17.0-cp310-cp310-manylinux_2_17_x86_64.manylinux2014_x86_64.whl (5.2 MB)\n",
            "\u001b[2K   \u001b[90m━━━━━━━━━━━━━━━━━━━━━━━━━━━━━━━━━━━━━━━━\u001b[0m \u001b[32m5.2/5.2 MB\u001b[0m \u001b[31m72.3 MB/s\u001b[0m eta \u001b[36m0:00:00\u001b[0m\n",
            "\u001b[?25hUsing cached nvidia_nvjitlink_cu12-12.6.20-py3-none-manylinux2014_x86_64.whl (19.7 MB)\n",
            "Installing collected packages: wasabi, scipy, nvidia-nvtx-cu12, nvidia-nvjitlink-cu12, nvidia-nccl-cu12, nvidia-curand-cu12, nvidia-cufft-cu12, nvidia-cuda-runtime-cu12, nvidia-cuda-nvrtc-cu12, nvidia-cuda-cupti-cu12, nvidia-cublas-cu12, diskcache, nvidia-cusparse-cu12, nvidia-cudnn-cu12, skops, nvidia-cusolver-cu12, bpemb, tensorflow-text, sentence-transformers, sense2vec, keras-nlp, embetter\n",
            "  Attempting uninstall: wasabi\n",
            "    Found existing installation: wasabi 1.1.3\n",
            "    Uninstalling wasabi-1.1.3:\n",
            "      Successfully uninstalled wasabi-1.1.3\n",
            "  Attempting uninstall: scipy\n",
            "    Found existing installation: scipy 1.13.1\n",
            "    Uninstalling scipy-1.13.1:\n",
            "      Successfully uninstalled scipy-1.13.1\n",
            "\u001b[31mERROR: pip's dependency resolver does not currently take into account all the packages that are installed. This behaviour is the source of the following dependency conflicts.\n",
            "osqp 0.6.7.post0 requires scipy!=1.12.0,>=0.13.2, but you have scipy 1.12.0 which is incompatible.\u001b[0m\u001b[31m\n",
            "\u001b[0mSuccessfully installed bpemb-0.3.5 diskcache-5.6.3 embetter-0.6.2 keras-nlp-0.14.4 nvidia-cublas-cu12-12.1.3.1 nvidia-cuda-cupti-cu12-12.1.105 nvidia-cuda-nvrtc-cu12-12.1.105 nvidia-cuda-runtime-cu12-12.1.105 nvidia-cudnn-cu12-8.9.2.26 nvidia-cufft-cu12-11.0.2.54 nvidia-curand-cu12-10.3.2.106 nvidia-cusolver-cu12-11.4.5.107 nvidia-cusparse-cu12-12.1.0.106 nvidia-nccl-cu12-2.20.5 nvidia-nvjitlink-cu12-12.6.20 nvidia-nvtx-cu12-12.1.105 scipy-1.12.0 sense2vec-2.0.0 sentence-transformers-3.0.1 skops-0.10.0 tensorflow-text-2.17.0 wasabi-0.10.1\n"
          ]
        }
      ]
    },
    {
      "cell_type": "code",
      "source": [
        "import pandas as pd\n",
        "from glovpy import GloVe"
      ],
      "metadata": {
        "id": "LMm4TCR8qOAL"
      },
      "execution_count": null,
      "outputs": []
    },
    {
      "cell_type": "code",
      "source": [
        "df=pd.read_excel('/content/1مناخ الاستثمار (1).xlsx')"
      ],
      "metadata": {
        "id": "53Oz-dbiqIre"
      },
      "execution_count": null,
      "outputs": []
    },
    {
      "cell_type": "code",
      "source": [
        "df.head(1)"
      ],
      "metadata": {
        "id": "NWY7fTyWpMhN",
        "colab": {
          "base_uri": "https://localhost:8080/",
          "height": 167
        },
        "outputId": "ce677694-6452-472e-9ed6-c4fcbe626f05"
      },
      "execution_count": null,
      "outputs": [
        {
          "output_type": "execute_result",
          "data": {
            "text/plain": [
              "   Unnamed: 0                                       user Comment  \\\n",
              "0           0  مصر تخطط لإقرار حوافز لخفض معدل الإنجاب، ضمن م...   \n",
              "\n",
              "                                       clean Comment sentiment sentiment1  \\\n",
              "0  مصر تخطط لإقرار حوافز لخفض معدل الإنجاب ضمن مش...  Positive   Positive   \n",
              "\n",
              "                           Most Frequent Words  \\\n",
              "0  ['الإنجاب', 'طفل', 'مصر', 'تخطط', 'لإقرار']   \n",
              "\n",
              "  Most Frequent Words with Frequencies  \\\n",
              "0         [('الإنجاب', 2), ('طفل', 2)]   \n",
              "\n",
              "                                             Summary  \\\n",
              "0  تخطط لإقرار حوافز لخفض معدل الإنجاب ، ضمن مشرو...   \n",
              "\n",
              "                                       Bullet Points Entities  \n",
              "0  - تخطط لإقرار حوافز لخفض معدل الإنجاب ، ضمن مش...       []  "
            ],
            "text/html": [
              "\n",
              "  <div id=\"df-fa4a4409-1bdd-427f-b476-9c9adf577676\" class=\"colab-df-container\">\n",
              "    <div>\n",
              "<style scoped>\n",
              "    .dataframe tbody tr th:only-of-type {\n",
              "        vertical-align: middle;\n",
              "    }\n",
              "\n",
              "    .dataframe tbody tr th {\n",
              "        vertical-align: top;\n",
              "    }\n",
              "\n",
              "    .dataframe thead th {\n",
              "        text-align: right;\n",
              "    }\n",
              "</style>\n",
              "<table border=\"1\" class=\"dataframe\">\n",
              "  <thead>\n",
              "    <tr style=\"text-align: right;\">\n",
              "      <th></th>\n",
              "      <th>Unnamed: 0</th>\n",
              "      <th>user Comment</th>\n",
              "      <th>clean Comment</th>\n",
              "      <th>sentiment</th>\n",
              "      <th>sentiment1</th>\n",
              "      <th>Most Frequent Words</th>\n",
              "      <th>Most Frequent Words with Frequencies</th>\n",
              "      <th>Summary</th>\n",
              "      <th>Bullet Points</th>\n",
              "      <th>Entities</th>\n",
              "    </tr>\n",
              "  </thead>\n",
              "  <tbody>\n",
              "    <tr>\n",
              "      <th>0</th>\n",
              "      <td>0</td>\n",
              "      <td>مصر تخطط لإقرار حوافز لخفض معدل الإنجاب، ضمن م...</td>\n",
              "      <td>مصر تخطط لإقرار حوافز لخفض معدل الإنجاب ضمن مش...</td>\n",
              "      <td>Positive</td>\n",
              "      <td>Positive</td>\n",
              "      <td>['الإنجاب', 'طفل', 'مصر', 'تخطط', 'لإقرار']</td>\n",
              "      <td>[('الإنجاب', 2), ('طفل', 2)]</td>\n",
              "      <td>تخطط لإقرار حوافز لخفض معدل الإنجاب ، ضمن مشرو...</td>\n",
              "      <td>- تخطط لإقرار حوافز لخفض معدل الإنجاب ، ضمن مش...</td>\n",
              "      <td>[]</td>\n",
              "    </tr>\n",
              "  </tbody>\n",
              "</table>\n",
              "</div>\n",
              "    <div class=\"colab-df-buttons\">\n",
              "\n",
              "  <div class=\"colab-df-container\">\n",
              "    <button class=\"colab-df-convert\" onclick=\"convertToInteractive('df-fa4a4409-1bdd-427f-b476-9c9adf577676')\"\n",
              "            title=\"Convert this dataframe to an interactive table.\"\n",
              "            style=\"display:none;\">\n",
              "\n",
              "  <svg xmlns=\"http://www.w3.org/2000/svg\" height=\"24px\" viewBox=\"0 -960 960 960\">\n",
              "    <path d=\"M120-120v-720h720v720H120Zm60-500h600v-160H180v160Zm220 220h160v-160H400v160Zm0 220h160v-160H400v160ZM180-400h160v-160H180v160Zm440 0h160v-160H620v160ZM180-180h160v-160H180v160Zm440 0h160v-160H620v160Z\"/>\n",
              "  </svg>\n",
              "    </button>\n",
              "\n",
              "  <style>\n",
              "    .colab-df-container {\n",
              "      display:flex;\n",
              "      gap: 12px;\n",
              "    }\n",
              "\n",
              "    .colab-df-convert {\n",
              "      background-color: #E8F0FE;\n",
              "      border: none;\n",
              "      border-radius: 50%;\n",
              "      cursor: pointer;\n",
              "      display: none;\n",
              "      fill: #1967D2;\n",
              "      height: 32px;\n",
              "      padding: 0 0 0 0;\n",
              "      width: 32px;\n",
              "    }\n",
              "\n",
              "    .colab-df-convert:hover {\n",
              "      background-color: #E2EBFA;\n",
              "      box-shadow: 0px 1px 2px rgba(60, 64, 67, 0.3), 0px 1px 3px 1px rgba(60, 64, 67, 0.15);\n",
              "      fill: #174EA6;\n",
              "    }\n",
              "\n",
              "    .colab-df-buttons div {\n",
              "      margin-bottom: 4px;\n",
              "    }\n",
              "\n",
              "    [theme=dark] .colab-df-convert {\n",
              "      background-color: #3B4455;\n",
              "      fill: #D2E3FC;\n",
              "    }\n",
              "\n",
              "    [theme=dark] .colab-df-convert:hover {\n",
              "      background-color: #434B5C;\n",
              "      box-shadow: 0px 1px 3px 1px rgba(0, 0, 0, 0.15);\n",
              "      filter: drop-shadow(0px 1px 2px rgba(0, 0, 0, 0.3));\n",
              "      fill: #FFFFFF;\n",
              "    }\n",
              "  </style>\n",
              "\n",
              "    <script>\n",
              "      const buttonEl =\n",
              "        document.querySelector('#df-fa4a4409-1bdd-427f-b476-9c9adf577676 button.colab-df-convert');\n",
              "      buttonEl.style.display =\n",
              "        google.colab.kernel.accessAllowed ? 'block' : 'none';\n",
              "\n",
              "      async function convertToInteractive(key) {\n",
              "        const element = document.querySelector('#df-fa4a4409-1bdd-427f-b476-9c9adf577676');\n",
              "        const dataTable =\n",
              "          await google.colab.kernel.invokeFunction('convertToInteractive',\n",
              "                                                    [key], {});\n",
              "        if (!dataTable) return;\n",
              "\n",
              "        const docLinkHtml = 'Like what you see? Visit the ' +\n",
              "          '<a target=\"_blank\" href=https://colab.research.google.com/notebooks/data_table.ipynb>data table notebook</a>'\n",
              "          + ' to learn more about interactive tables.';\n",
              "        element.innerHTML = '';\n",
              "        dataTable['output_type'] = 'display_data';\n",
              "        await google.colab.output.renderOutput(dataTable, element);\n",
              "        const docLink = document.createElement('div');\n",
              "        docLink.innerHTML = docLinkHtml;\n",
              "        element.appendChild(docLink);\n",
              "      }\n",
              "    </script>\n",
              "  </div>\n",
              "\n",
              "\n",
              "    </div>\n",
              "  </div>\n"
            ],
            "application/vnd.google.colaboratory.intrinsic+json": {
              "type": "dataframe",
              "variable_name": "df",
              "summary": "{\n  \"name\": \"df\",\n  \"rows\": 40,\n  \"fields\": [\n    {\n      \"column\": \"Unnamed: 0\",\n      \"properties\": {\n        \"dtype\": \"number\",\n        \"std\": 12,\n        \"min\": 0,\n        \"max\": 40,\n        \"num_unique_values\": 40,\n        \"samples\": [\n          20,\n          17,\n          16\n        ],\n        \"semantic_type\": \"\",\n        \"description\": \"\"\n      }\n    },\n    {\n      \"column\": \"user Comment\",\n      \"properties\": {\n        \"dtype\": \"string\",\n        \"num_unique_values\": 40,\n        \"samples\": [\n          \"\\u0627\\u0647\\u0645 \\u062d\\u0627\\u062c\\u0629 \\u0641\\u062a\\u062d \\u0645\\u062c\\u0627\\u0644 \\u0627\\u0644\\u0627\\u0633\\u062a\\u062b\\u0645\\u0627\\u0631 \\u0648\\u0627\\u0644\\u0633\\u0645\\u0627\\u062d \\u0628\\u0628\\u0646\\u0627\\u0621 \\u0627\\u0644\\u0645\\u0634\\u0631\\u0648\\u0639\\u0627\\u062a \\u0630\\u0627\\u062a \\u0627\\u0644\\u0646\\u0641\\u0639 \\u0627\\u0644\\u0639\\u0627\\u0645 \\u0648\\u0627\\u0644\\u062e\\u0627\\u0635 \\u0639\\u0644\\u0649 \\u0627\\u0644\\u0627\\u0631\\u0627\\u0636\\u064a \\u0627\\u0644\\u0632\\u0631\\u0627\\u0639\\u0629 \\u0628\\u0634\\u0631\\u0648\\u0637 \\u0648\\u062a\\u0648\\u0633\\u0639 \\u0627\\u0644\\u0632\\u0631\\u0627\\u0639\\u0629 \\u0641\\u064a \\u0623\\u0645\\u0627\\u0643\\u0646 \\u0628\\u062f\\u064a\\u0644\\u0629\",\n          \"I would to Admitte Two Golden licenses one to Egyptian Rail way Authority and other to National Committe of Defence\",\n          \"\\u0645\\u0646 \\u0627\\u0644\\u0645\\u0645\\u0643\\u0646 \\u0627\\u0644\\u0627\\u0647\\u062a\\u0645\\u0627\\u0645 \\u0628\\u0645\\u0628\\u062f\\u0623 \\u062f\\u0628\\u0644\\u0648\\u0645\\u0627\\u0633\\u064a\\u0629 \\u0627\\u0644\\u062a\\u0646\\u0645\\u064a\\u0629 \\u0643\\u0645\\u0628\\u062f\\u0623 \\u0631\\u0626\\u064a\\u0633\\u064a \\u0641\\u064a \\u062c\\u0630\\u0628 \\u0627\\u0644\\u0627\\u0633\\u062a\\u062b\\u0645\\u0627\\u0631\\u0627\\u062a \\u0648\\u064a\\u0645\\u0643\\u0646 \\u062a\\u0646\\u0641\\u064a\\u0630 \\u0647\\u0630\\u0627 \\u0639\\u0644\\u064a \\u0646\\u0637\\u0627\\u0642 \\u0627\\u0644\\u0645\\u062c\\u062a\\u0645\\u0639 \\u0627\\u0644\\u0645\\u062d\\u0644\\u064a \\u0643\\u062a\\u062c\\u0631\\u0628\\u0629 \\u0642\\u0627\\u0628\\u0644\\u0629 \\u0644\\u0644\\u062a\\u0639\\u0645\\u064a\\u0645 \\u0648\\u0647\\u0630\\u0627 \\u0645\\u0645\\u0643\\u0646 \\u0627\\u0646 \\u064a\\u0643\\u0648\\u0646 \\u0639\\u0646 \\u0637\\u0631\\u064a\\u0642 \\u062a\\u0648\\u062c\\u064a\\u0647 \\u0627\\u0644\\u0633\\u0627\\u062f\\u0629 \\u0627\\u0644\\u0645\\u062d\\u0627\\u0641\\u0638\\u064a\\u0646 \\u0648\\u0646\\u0648\\u0627\\u0628\\u0647\\u0645 \\u0628\\u0627\\u0633\\u062a\\u063a\\u0644\\u0627\\u0644 \\u0627\\u0644\\u0645\\u0646\\u0635\\u0627\\u062a \\u0627\\u0644\\u0627\\u0639\\u0644\\u0627\\u0645\\u064a\\u0629 \\u0627\\u0644\\u062a\\u0642\\u0644\\u064a\\u062f\\u064a\\u0629 \\u0633\\u0648\\u0627\\u0621 \\u062a\\u0644\\u064a\\u0641\\u0627\\u0632 \\u0648 \\u0631\\u0627\\u062f\\u064a\\u0648 \\u0648\\u0635\\u062d\\u0641 \\u0648\\u0631\\u0642\\u064a\\u0629\\u060c \\u0648\\u0627\\u0644\\u0645\\u0646\\u0635\\u0627\\u062a \\u0627\\u0644\\u062d\\u062f\\u064a\\u062b\\u0629 \\u0643\\u0645\\u0648\\u0627\\u0642\\u0639 \\u0627\\u0644\\u062a\\u0648\\u0627\\u0635\\u0644 \\u0648\\u0627\\u0644\\u0645\\u0646\\u0635\\u0627\\u062a \\u0627\\u0644\\u0627\\u0644\\u0643\\u062a\\u0631\\u0648\\u0646\\u064a\\u0629 \\u0648\\u0627\\u0644\\u0635\\u062d\\u0641 \\u0627\\u0644\\u0627\\u0644\\u0643\\u062a\\u0631\\u0648\\u0646\\u064a\\u0629\\u060c \\u0641\\u064a \\u0639\\u0631\\u0636 \\u0627\\u0645\\u0643\\u0627\\u0646\\u0627\\u062a \\u0648\\u0641\\u0631\\u0635 \\u0627\\u0644\\u0627\\u0633\\u062a\\u062b\\u0645\\u0627\\u0631 \\u0628\\u0643\\u0644 \\u0645\\u062d\\u0627\\u0641\\u0638\\u0629 \\u0648\\u0639\\u0631\\u0636 \\u0646\\u0642\\u0627\\u0637 \\u0627\\u0644\\u0642\\u0648\\u0629 \\u0627\\u0644\\u0628\\u0627\\u0631\\u0632\\u0629 \\u0644\\u0643\\u0644 \\u0627\\u0642\\u0644\\u064a\\u0645 \\u0645\\u062d\\u0644\\u064a \\u0648\\u0645\\u0632\\u0627\\u064a\\u0627 \\u0627\\u0644\\u0627\\u0633\\u062a\\u062b\\u0645\\u0627\\u0631 \\u0628\\u0647 \\u0648\\u062a\\u0633\\u0648\\u064a\\u0642 \\u0647\\u0630\\u0647 \\u0627\\u0644\\u0628\\u064a\\u0627\\u0646\\u0627\\u062a \\u0628\\u0639\\u062f \\u062d\\u0635\\u0631\\u0647\\u0627 \\u0628\\u0634\\u0643\\u0644 \\u0639\\u0644\\u0645\\u064a \\u062f\\u0642\\u064a\\u0642 \\u0628\\u0637\\u0631\\u0642 \\u062a\\u0633\\u0648\\u064a\\u0642 \\u062d\\u062f\\u064a\\u062b\\u0629 \\u062a\\u0639\\u062a\\u0645\\u062f \\u0639\\u0644\\u064a \\u0627\\u0633\\u0627\\u0644\\u064a\\u0628 \\u0627\\u0644\\u062c\\u0630\\u0628 \\u0648\\u0627\\u0644\\u0639\\u0642\\u0644\\u0627\\u0646\\u064a\\u0629 \\u0641\\u064a \\u062a\\u062d\\u0642\\u064a\\u0642 \\u0639\\u0648\\u0627\\u0626\\u062f \\u0648\\u0641\\u0648\\u0627\\u0626\\u0636 \\u0627\\u0642\\u062a\\u0635\\u0627\\u062f\\u064a\\u0629 \\u0644\\u0644\\u0645\\u0633\\u062a\\u062b\\u0645\\u0631 \\u0628\\u062f\\u0644\\u0627 \\u0645\\u0646 \\u0627\\u0633\\u062a\\u062e\\u062f\\u0627\\u0645 \\u0645\\u0648\\u0627\\u0642\\u0639 \\u0627\\u0644\\u062a\\u0648\\u0627\\u0635\\u0644 \\u0648\\u0627\\u0644\\u0627\\u0639\\u0644\\u0627\\u0645 \\u0641\\u064a \\u0646\\u0634\\u0631 \\u0627\\u0646\\u062c\\u0627\\u0632\\u0627\\u062a \\u0627\\u0639\\u0627\\u062f\\u0629 \\u0627\\u0644\\u0634\\u0626 \\u0644\\u0627\\u0635\\u0644\\u0647 \\u0627\\u0648 \\u0627\\u0644\\u0635\\u0648\\u0631 \\u0627\\u0644\\u0634\\u062e\\u0635\\u064a\\u0629 \\u0627\\u0644\\u062a\\u064a \\u0644\\u0627 \\u062a\\u062d\\u0642\\u0642 \\u0639\\u0627\\u0626\\u062f \\u0627\\u0648 \\u0642\\u064a\\u0645\\u0629 \\u0648\\u0637\\u0646\\u064a\\u0629\\u060c \\u0647\\u0630\\u0627 \\u0628\\u0627\\u0644\\u0627\\u0636\\u0627\\u0641\\u0629 \\u0627\\u0644\\u064a \\u062f\\u0631\\u0627\\u0633\\u0629 \\u0627\\u0644\\u0633\\u0648\\u0642 \\u0627\\u0644\\u0639\\u0627\\u0644\\u0645\\u064a \\u0648\\u0627\\u0644\\u0634\\u0631\\u0643\\u0627\\u062a \\u0627\\u0644\\u0646\\u0627\\u0634\\u0626\\u0629 \\u0648\\u0627\\u0644\\u0643\\u0628\\u0631\\u064a \\u0648\\u0627\\u0633\\u062a\\u062e\\u062f\\u0627\\u0645 \\u062f\\u0628\\u0644\\u0648\\u0645\\u0627\\u0633\\u064a\\u0629 \\u0627\\u0644\\u062a\\u0646\\u0645\\u064a\\u0629 \\u0627\\u064a\\u0636\\u0627\\u064b \\u0641\\u064a \\u0645\\u062e\\u0627\\u0637\\u0628\\u062a\\u0647\\u0645 \\u0648\\u062a\\u0635\\u0645\\u064a\\u0645 \\u0639\\u0631\\u0636 \\u064a\\u0644\\u0627\\u0626\\u0645 \\u0647\\u0630\\u0647 \\u0627\\u0644\\u0634\\u0631\\u0643\\u0627\\u062a \\u0648\\u0627\\u0644\\u0645\\u0633\\u062a\\u062b\\u0645\\u0631\\u064a\\u0646 \\u0648\\u064a\\u0636\\u0645\\u0646 \\u0644\\u0644\\u062f\\u0648\\u0644\\u0629 \\u0627\\u0644\\u0633\\u064a\\u0627\\u062f\\u0629 \\u0648\\u062d\\u0641\\u0638 \\u0627\\u0644\\u0642\\u0627\\u0646\\u0648\\u0646 \\u0648\\u0627\\u0644\\u062a\\u0646\\u0645\\u064a\\u0629 \\u0648\\u064a\\u062d\\u0642\\u0642 \\u0639\\u0627\\u0626\\u062f \\u0627\\u0642\\u062a\\u0635\\u0627\\u062f\\u064a \\u062a\\u0646\\u0645\\u0648\\u064a \\u0644\\u0644\\u0637\\u0631\\u0641\\u064a\\u0646. \\u0648\\u0627\\u064a\\u0636\\u0627\\u064b \\u0627\\u0628\\u0631\\u0627\\u0632 \\u0628\\u0639\\u0636 \\u0627\\u0644\\u0645\\u0632\\u0627\\u064a\\u0627 \\u0648\\u0627\\u0644\\u0645\\u064a\\u0632\\u0627\\u062a \\u0627\\u0644\\u062a\\u064a \\u0645\\u0646 \\u0627\\u0644\\u0645\\u0645\\u0643\\u0646 \\u0627\\u0646 \\u062a\\u0642\\u062f\\u0645\\u0647\\u0627 \\u0627\\u0644\\u062f\\u0648\\u0644\\u0629 \\u0644\\u0644\\u0645\\u0633\\u062a\\u062b\\u0645\\u0631\\u064a\\u0646 \\u0641\\u064a \\u0643\\u0644 \\u0645\\u062c\\u062a\\u0645\\u0639 \\u0645\\u062d\\u0644\\u064a (\\u0645\\u062d\\u0627\\u0641\\u0638\\u0629) \\u0645\\u0645\\u0627 \\u0633\\u0648\\u0641 \\u064a\\u0643\\u0648\\u0646 \\u0644\\u0647 \\u0627\\u062b\\u0631 \\u0628\\u0627\\u0644\\u063a \\u0648\\u0648\\u0627\\u0636\\u062d \\u0641\\u064a \\u0644\\u0627\\u0634\\u0643 \\u0627\\u0646 \\u0627\\u0644\\u062f\\u0648\\u0644\\u0629 \\u0628\\u0642\\u064a\\u0627\\u062f\\u062a\\u0647\\u0627 \\u0627\\u0644\\u0633\\u064a\\u0627\\u0633\\u064a\\u0629 \\u062a\\u0633\\u0639\\u064a \\u0644\\u062c\\u0630\\u0628 \\u0627\\u0644\\u0625\\u0633\\u062a\\u062b\\u0645\\u0627\\u0631 \\u0648\\u0625\\u0646\\u0637\\u0644\\u0627\\u0642 \\u0633\\u064a\\u0627\\u0633\\u0629 \\u0645\\u0644\\u0643\\u064a\\u0629 \\u0627\\u0644\\u062f\\u0648\\u0644\\u0629 \\u0648\\u0637\\u0631\\u062d \\u0627\\u0644\\u0631\\u062e\\u0635\\u0629 \\u0627\\u0644\\u0630\\u0647\\u0628\\u064a\\u0629 \\u0648\\u0630\\u0644\\u0643 \\u0644\\u062e\\u0644\\u0642 \\u0645\\u0632\\u064a\\u062f \\u0645\\u0646 \\u0627\\u0644\\u0641\\u0631\\u0635 \\u0648\\u062a\\u062d\\u0642\\u064a\\u0642 \\u0627\\u0644\\u0646\\u0645\\u0648 \\u0627\\u0644\\u0625\\u0642\\u062a\\u0635\\u0627\\u062f\\u064a \\u0648\\u0645\\u0646 \\u0647\\u0646\\u0627 \\u0644\\u0627\\u0628\\u062f \\u0645\\u0646 \\u062a\\u0648\\u0637\\u064a\\u0646 \\u0627\\u0644\\u0635\\u0646\\u0627\\u0639\\u0629 \\u0627\\u0644\\u0645\\u0635\\u0631\\u064a\\u0629 \\u0648\\u062a\\u062d\\u062f\\u064a\\u062f \\u0627\\u0644\\u0645\\u0639\\u0648\\u0642\\u0627\\u062a \\u0627\\u0644\\u062a\\u0649 \\u062a\\u0642\\u0641 \\u0627\\u0645\\u0627\\u0645\\u0647\\u0627 \\u0645\\u0646 \\u0627\\u0633\\u062a\\u064a\\u0631\\u0627\\u062f \\u0627\\u0644\\u0645\\u0648\\u0627\\u062f \\u0627\\u0644\\u062e\\u0627\\u0645 \\u0648\\u0627\\u0644\\u0634\\u062d\\u0646 \\u0648\\u0627\\u0644\\u062a\\u0641\\u0631\\u064a\\u063a \\u0648\\u0648\\u0635\\u0648\\u0644 \\u0627\\u0644\\u0645\\u0627\\u062f\\u0629 \\u0627\\u0644\\u062e\\u0627\\u0645 \\u0627\\u0644\\u0649 \\u0627\\u0644\\u0645\\u0635\\u0646\\u0639 \\u0645\\u0645\\u0627 \\u064a\\u0639\\u0648\\u0642 \\u062d\\u0631\\u0643\\u0629 \\u0627\\u0644\\u0645\\u0633\\u062a\\u062b\\u0645\\u0631\\u064a\\u0646 \\u0648\\u0645\\u0646 \\u0647\\u0646\\u0627 \\u064a\\u062c\\u0628 \\u0627\\u0644\\u0627\\u062a\\u062c\\u0627\\u0629 \\u0627\\u0644\\u0649 \\u0627\\u0644\\u0625\\u0633\\u062a\\u0641\\u0627\\u062f\\u0629 \\u0627\\u0644\\u0642\\u0635\\u0648\\u064a \\u0645\\u0646 \\u0645\\u0648\\u0627\\u0631\\u062f \\u062c\\u0645\\u0647\\u0648\\u0631\\u064a\\u0629 \\u0645\\u0635\\u0631 \\u0627\\u0644\\u0639\\u0631\\u0628\\u064a\\u0629 \\u0648\\u062a\\u0639\\u0638\\u064a\\u0645 \\u0627\\u0648\\u062c\\u0629 \\u0627\\u0644\\u0625\\u0633\\u062a\\u0641\\u0627\\u062f\\u0629 \\u0628\\u0647\\u0627 \\u062f\\u0648\\u0646 \\u0627\\u0644\\u0644\\u062c\\u0648\\u0621 \\u0627\\u0644\\u0649 \\u0627\\u0644\\u0627\\u0633\\u062a\\u064a\\u0631\\u0627\\u062f \\u0627\\u0644\\u0645\\u0648\\u0627\\u062f \\u0627\\u0644\\u062e\\u0627\\u0645 \\u0648\\u0646\\u0628\\u062f\\u0623 \\u0628\\u0627\\u0644\\u0625\\u0633\\u062a\\u062b\\u0645\\u0627\\u0631 \\u0627\\u0644\\u0632\\u0631\\u0627\\u0639\\u064a \\u0644\\u0627\\u0628\\u062f \\u0627\\u0646 \\u062a\\u062a\\u062c\\u0647 \\u0627\\u0644\\u062f\\u0648\\u0644\\u0629 \\u0627\\u0644\\u0649 \\u0632\\u0631\\u0627\\u0639\\u0629 \\u0627\\u0644\\u0642\\u0645\\u062d \\u0648\\u0627\\u0644\\u0627\\u0631\\u0632 \\u0648 \\u0627\\u0644\\u0642\\u0637\\u0646 \\u0648\\u0627\\u0644\\u0632\\u0631\\u0627\\u0639\\u0627\\u062a \\u0627\\u0644\\u0625\\u0633\\u062a\\u0631\\u0627\\u062a\\u064a\\u062c\\u064a\\u0629 \\u0628\\u0645\\u0633\\u0627\\u062d\\u0627\\u062a \\u0633\\u0627\\u0634\\u0639\\u0629 \\u0648\\u062d\\u064a\\u062b \\u0627\\u0646 \\u0645\\u0639\\u0638\\u0645 \\u0627\\u0631\\u0627\\u0636\\u064a \\u062c\\u0645\\u0647\\u0648\\u0631\\u064a\\u0629 \\u0645\\u0635\\u0631 \\u0627\\u0644\\u0639\\u0631\\u0628\\u064a\\u0629 \\u062a\\u0635\\u0644\\u062d \\u0644\\u0644\\u0632\\u0627\\u0639\\u0629 \\u0641\\u0644\\u0648 \\u062a\\u0645 \\u062a\\u0648\\u0637\\u064a\\u0646 \\u0647\\u0630\\u0647 \\u0627\\u0644\\u0632\\u0631\\u0627\\u0639\\u0627\\u062a \\u0628\\u062e\\u0637\\u0629 \\u0627\\u0633\\u062a\\u0631\\u0627\\u062a\\u062c\\u064a\\u0629 \\u0637\\u0648\\u064a\\u0644\\u0629 \\u0627\\u0644\\u0645\\u062f\\u064a \\u0633\\u0646\\u0643\\u062a\\u0641\\u064a \\u0645\\u0646 \\u0627\\u0633\\u062a\\u064a\\u0631\\u0627\\u062f \\u0627\\u0644\\u062d\\u0628\\u0648\\u0628 \\u0627\\u0644\\u063a\\u0630\\u0627\\u0626\\u064a\\u0629 \\u0648\\u0633\\u064a\\u0648\\u062c\\u062f \\u0641\\u0627\\u0626\\u0636 \\u0648\\u064a\\u062a\\u0645 \\u0627\\u0633\\u062a\\u063a\\u0644\\u0627\\u0644\\u0629 \\u0644\\u0644\\u0648\\u0635\\u0648\\u0644 \\u0644\\u0623\\u0642\\u0635\\u064a \\u0627\\u0633\\u062a\\u0641\\u0627\\u062f\\u0629 \\u0639\\u0638\\u0645\\u064a \\u0645\\u0646 \\u062e\\u0644\\u0627\\u0644 \\u0645\\u0635\\u0627\\u0646\\u0639 \\u0627\\u0644\\u0645\\u0633\\u062a\\u062b\\u0645\\u0631\\u064a\\u0646 \\u0648\\u0627\\u0646 \\u0627\\u0644\\u062f\\u0648\\u0644\\u0629 \\u0627\\u0644\\u0645\\u0635\\u0631\\u064a\\u0629 \\u0647\\u0649 \\u0627\\u0644\\u062a\\u0649 \\u062a\\u0642\\u0648\\u0645 \\u0628\\u0627\\u0644\\u062a\\u0648\\u0631\\u064a\\u062f \\u0644\\u0644\\u0645\\u0633\\u062a\\u062b\\u0645\\u0631 \\u0628\\u0633\\u0639\\u0631 \\u0627\\u0642\\u0644 \\u0645\\u0646 \\u0627\\u0644\\u0633\\u0639\\u0631 \\u0627\\u0644\\u062e\\u0627\\u0631\\u062c\\u064a \\u0648\\u0633\\u0646\\u0639\\u0637\\u064a \\u0645\\u062b\\u0627\\u0644\\u0627\\u064b \\u0627\\u0644\\u0642\\u0637\\u0646 \\u0627\\u0644\\u0623\\u0631\\u0632 \\u0627\\u0644\\u0642\\u0645\\u062d \\u0639\\u0628\\u0627\\u062f \\u0627\\u0644\\u0634\\u0645\\u0633 \\u0627\\u0644\\u0630\\u0631\\u0647 \\u0627\\u0644\\u0646\\u062e\\u064a\\u0644 \\u0648\\u0644\\u0648 \\u0646\\u0638\\u0631\\u0646\\u0627 \\u0644\\u0643\\u0644 \\u0647\\u0630\\u0629 \\u0627\\u0644\\u062d\\u0628\\u0648\\u0628 \\u0641\\u0644\\u0647\\u0627 \\u0627\\u0633\\u062a\\u062e\\u062f\\u0627\\u0645\\u0627\\u062a \\u0643\\u062b\\u064a\\u0631\\u0629 \\u0645\\u062a\\u0639\\u062f\\u062f\\u0629 \\u0648\\u0645\\u0639 \\u0627\\u062a\\u062c\\u0627\\u0647 \\u0627\\u0644\\u062f\\u0648\\u0644\\u0629 \\u0627\\u0644\\u0645\\u0635\\u0631\\u064a\\u0629 \\u0627\\u0644\\u0649 \\u062a\\u0639\\u0645\\u064a\\u0631 \\u0633\\u064a\\u0646\\u0627\\u0621 \\u0627\\u0642\\u062a\\u0631\\u062d \\u0627\\u0646 \\u064a\\u062a\\u0645 \\u0627\\u0635\\u0644\\u0627\\u0642 \\u0645\\u0634\\u0631\\u0648\\u0639 \\u0642\\u0648\\u0645\\u064a \\u0628\\u0633\\u064a\\u0646\\u0627\\u0621 \\u0648\\u064a\\u0633\\u0645\\u064a \\u0633\\u064a\\u0646\\u0627\\u0621 \\u0627\\u0644\\u062e\\u0636\\u0631\\u0627\\u0621 \\u0648\\u064a\\u062a\\u0645 \\u0627\\u0644\\u0632\\u0631\\u0627\\u0639\\u0629 \\u0639\\u0644\\u0649 \\u062d\\u0633\\u0628 \\u0627\\u0644\\u062e\\u0637\\u0629 \\u0627\\u0644\\u0627\\u0633\\u062a\\u0631\\u0627\\u062a\\u062c\\u064a\\u0629 \\u0627\\u0644\\u062a\\u0649 \\u062a\\u0636\\u0639\\u0647\\u0627 \\u0627\\u0644\\u062f\\u0648\\u0644\\u0629 \\u0648\\u0627\\u0644\\u0623\\u0647\\u0645 \\u0627\\u0646 \\u062a\\u0643\\u0648\\u0646 \\u0628\\u0625\\u0633\\u062a\\u062b\\u0645\\u0627\\u0631\\u0627\\u062a \\u0645\\u0635\\u0631\\u064a\\u0629 \\u0648\\u0639\\u0646\\u062f \\u0627\\u0644\\u062a\\u0639\\u0645\\u064a\\u0631 \\u064a\\u062a\\u0645 \\u0625\\u0639\\u0637\\u0627\\u0621 \\u0627\\u0644\\u0645\\u0648\\u0627\\u0637\\u0646 \\u0642\\u0637\\u0639\\u0629 \\u0623\\u0631\\u0636 \\u064a\\u0642\\u0648\\u0645 \\u0628\\u0625\\u0633\\u062a\\u0635\\u0644\\u0627\\u062d\\u0647\\u0627 \\u0645\\u0639 \\u0625\\u0639\\u0637\\u0627\\u0621 \\u0627\\u0644\\u0645\\u062d\\u0635\\u0648\\u0644 \\u0644\\u0644\\u062f\\u0648\\u0644\\u0629 \\u0627\\u0644\\u0645\\u0635\\u0631\\u064a\\u0629 \\u0648\\u0627\\u0644\\u062f\\u0648\\u0644\\u0629 \\u0647\\u0649 \\u0645\\u0646 \\u062a\\u0642\\u0648\\u0645 \\u0628\\u0627\\u0644\\u062a\\u0648\\u0631\\u064a\\u062f \\u0644\\u0644\\u0645\\u0633\\u062a\\u062b\\u0645\\u0631 \\u062d\\u0641\\u0638 \\u0627\\u0644\\u0644\\u0647 \\u0645\\u0635\\u0631\\u0646\\u0627 \\u0627\\u0644\\u062d\\u0628\\u064a\\u0628\\u0629 \\ud83c\\uddea\\ud83c\\uddec\\u062c\\u0630\\u0628 \\u0627\\u0633\\u062a\\u062b\\u0645\\u0627\\u0631\\u0627\\u062a \\u0645\\u062d\\u0644\\u064a\\u0629 \\u0648\\u0627\\u062c\\u0646\\u0628\\u064a\\u0629.\"\n        ],\n        \"semantic_type\": \"\",\n        \"description\": \"\"\n      }\n    },\n    {\n      \"column\": \"clean Comment\",\n      \"properties\": {\n        \"dtype\": \"string\",\n        \"num_unique_values\": 40,\n        \"samples\": [\n          \"\\u062d\\u0627\\u062c\\u0629 \\u0641\\u062a\\u062d \\u0645\\u062c\\u0627\\u0644 \\u0627\\u0644\\u0627\\u0633\\u062a\\u062b\\u0645\\u0627\\u0631 \\u0648\\u0627\\u0644\\u0633\\u0645\\u0627\\u062d \\u0628\\u0628\\u0646\\u0627\\u0621 \\u0627\\u0644\\u0645\\u0634\\u0631\\u0648\\u0639\\u0627\\u062a \\u0627\\u0644\\u0646\\u0641\\u0639 \\u0627\\u0644\\u0639\\u0627\\u0645 \\u0648\\u0627\\u0644\\u062e\\u0627\\u0635 \\u0627\\u0644\\u0627\\u0631\\u0627\\u0636\\u064a \\u0627\\u0644\\u0632\\u0631\\u0627\\u0639\\u0629 \\u0628\\u0634\\u0631\\u0648\\u0637 \\u0648\\u062a\\u0648\\u0633\\u0639 \\u0627\\u0644\\u0632\\u0631\\u0627\\u0639\\u0629 \\u0623\\u0645\\u0627\\u0643\\u0646 \\u0628\\u062f\\u064a\\u0644\\u0629\",\n          \"I would to Admitte Two Golden licenses one to Egyptian Rail way Authority and other to National Committe of Defence\",\n          \"\\u0627\\u0644\\u0645\\u0645\\u0643\\u0646 \\u0627\\u0644\\u0627\\u0647\\u062a\\u0645\\u0627\\u0645 \\u0628\\u0645\\u0628\\u062f\\u0623 \\u062f\\u0628\\u0644\\u0648\\u0645\\u0627\\u0633\\u064a\\u0629 \\u0627\\u0644\\u062a\\u0646\\u0645\\u064a\\u0629 \\u0643\\u0645\\u0628\\u062f\\u0623 \\u0631\\u0626\\u064a\\u0633\\u064a \\u062c\\u0630\\u0628 \\u0627\\u0644\\u0627\\u0633\\u062a\\u062b\\u0645\\u0627\\u0631\\u0627\\u062a \\u0648\\u064a\\u0645\\u0643\\u0646 \\u062a\\u0646\\u0641\\u064a\\u0630 \\u0646\\u0637\\u0627\\u0642 \\u0627\\u0644\\u0645\\u062c\\u062a\\u0645\\u0639 \\u0627\\u0644\\u0645\\u062d\\u0644\\u064a \\u0643\\u062a\\u062c\\u0631\\u0628\\u0629 \\u0642\\u0627\\u0628\\u0644\\u0629 \\u0644\\u0644\\u062a\\u0639\\u0645\\u064a\\u0645 \\u0648\\u0647\\u0630\\u0627 \\u0645\\u0645\\u0643\\u0646 \\u064a\\u0643\\u0648\\u0646 \\u0637\\u0631\\u064a\\u0642 \\u062a\\u0648\\u062c\\u064a\\u0647 \\u0627\\u0644\\u0633\\u0627\\u062f\\u0629 \\u0627\\u0644\\u0645\\u062d\\u0627\\u0641\\u0638\\u064a\\u0646 \\u0648\\u0646\\u0648\\u0627\\u0628\\u0647\\u0645 \\u0628\\u0627\\u0633\\u062a\\u063a\\u0644\\u0627\\u0644 \\u0627\\u0644\\u0645\\u0646\\u0635\\u0627\\u062a \\u0627\\u0644\\u0627\\u0639\\u0644\\u0627\\u0645\\u064a\\u0629 \\u0627\\u0644\\u062a\\u0642\\u0644\\u064a\\u062f\\u064a\\u0629 \\u0633\\u0648\\u0627\\u0621 \\u062a\\u0644\\u064a\\u0641\\u0627\\u0632 \\u0631\\u0627\\u062f\\u064a\\u0648 \\u0648\\u0635\\u062d\\u0641 \\u0648\\u0631\\u0642\\u064a\\u0629 \\u0648\\u0627\\u0644\\u0645\\u0646\\u0635\\u0627\\u062a \\u0627\\u0644\\u062d\\u062f\\u064a\\u062b\\u0629 \\u0643\\u0645\\u0648\\u0627\\u0642\\u0639 \\u0627\\u0644\\u062a\\u0648\\u0627\\u0635\\u0644 \\u0648\\u0627\\u0644\\u0645\\u0646\\u0635\\u0627\\u062a \\u0627\\u0644\\u0627\\u0644\\u0643\\u062a\\u0631\\u0648\\u0646\\u064a\\u0629 \\u0648\\u0627\\u0644\\u0635\\u062d\\u0641 \\u0627\\u0644\\u0627\\u0644\\u0643\\u062a\\u0631\\u0648\\u0646\\u064a\\u0629 \\u0639\\u0631\\u0636 \\u0627\\u0645\\u0643\\u0627\\u0646\\u0627\\u062a \\u0648\\u0641\\u0631\\u0635 \\u0627\\u0644\\u0627\\u0633\\u062a\\u062b\\u0645\\u0627\\u0631 \\u0628\\u0643\\u0644 \\u0645\\u062d\\u0627\\u0641\\u0638\\u0629 \\u0648\\u0639\\u0631\\u0636 \\u0646\\u0642\\u0627\\u0637 \\u0627\\u0644\\u0642\\u0648\\u0629 \\u0627\\u0644\\u0628\\u0627\\u0631\\u0632\\u0629 \\u0644\\u0643\\u0644 \\u0627\\u0642\\u0644\\u064a\\u0645 \\u0645\\u062d\\u0644\\u064a \\u0648\\u0645\\u0632\\u0627\\u064a\\u0627 \\u0627\\u0644\\u0627\\u0633\\u062a\\u062b\\u0645\\u0627\\u0631 \\u0648\\u062a\\u0633\\u0648\\u064a\\u0642 \\u0627\\u0644\\u0628\\u064a\\u0627\\u0646\\u0627\\u062a \\u062d\\u0635\\u0631\\u0647\\u0627 \\u0628\\u0634\\u0643\\u0644 \\u0639\\u0644\\u0645\\u064a \\u062f\\u0642\\u064a\\u0642 \\u0628\\u0637\\u0631\\u0642 \\u062a\\u0633\\u0648\\u064a\\u0642 \\u062d\\u062f\\u064a\\u062b\\u0629 \\u062a\\u0639\\u062a\\u0645\\u062f \\u0627\\u0633\\u0627\\u0644\\u064a\\u0628 \\u0627\\u0644\\u062c\\u0630\\u0628 \\u0648\\u0627\\u0644\\u0639\\u0642\\u0644\\u0627\\u0646\\u064a\\u0629 \\u062a\\u062d\\u0642\\u064a\\u0642 \\u0639\\u0648\\u0627\\u0626\\u062f \\u0648\\u0641\\u0648\\u0627\\u0626\\u0636 \\u0627\\u0642\\u062a\\u0635\\u0627\\u062f\\u064a\\u0629 \\u0644\\u0644\\u0645\\u0633\\u062a\\u062b\\u0645\\u0631 \\u0628\\u062f\\u0644\\u0627 \\u0627\\u0633\\u062a\\u062e\\u062f\\u0627\\u0645 \\u0645\\u0648\\u0627\\u0642\\u0639 \\u0627\\u0644\\u062a\\u0648\\u0627\\u0635\\u0644 \\u0648\\u0627\\u0644\\u0627\\u0639\\u0644\\u0627\\u0645 \\u0646\\u0634\\u0631 \\u0627\\u0646\\u062c\\u0627\\u0632\\u0627\\u062a \\u0627\\u0639\\u0627\\u062f\\u0629 \\u0627\\u0644\\u0634\\u0626 \\u0644\\u0627\\u0635\\u0644\\u0647 \\u0627\\u0644\\u0635\\u0648\\u0631 \\u0627\\u0644\\u0634\\u062e\\u0635\\u064a\\u0629 \\u062a\\u062d\\u0642\\u0642 \\u0639\\u0627\\u0626\\u062f \\u0642\\u064a\\u0645\\u0629 \\u0648\\u0637\\u0646\\u064a\\u0629 \\u0628\\u0627\\u0644\\u0627\\u0636\\u0627\\u0641\\u0629 \\u062f\\u0631\\u0627\\u0633\\u0629 \\u0627\\u0644\\u0633\\u0648\\u0642 \\u0627\\u0644\\u0639\\u0627\\u0644\\u0645\\u064a \\u0648\\u0627\\u0644\\u0634\\u0631\\u0643\\u0627\\u062a \\u0627\\u0644\\u0646\\u0627\\u0634\\u0626\\u0629 \\u0648\\u0627\\u0644\\u0643\\u0628\\u0631\\u064a \\u0648\\u0627\\u0633\\u062a\\u062e\\u062f\\u0627\\u0645 \\u062f\\u0628\\u0644\\u0648\\u0645\\u0627\\u0633\\u064a\\u0629 \\u0627\\u0644\\u062a\\u0646\\u0645\\u064a\\u0629 \\u0627\\u064a\\u0636\\u0627\\u064b \\u0645\\u062e\\u0627\\u0637\\u0628\\u062a\\u0647\\u0645 \\u0648\\u062a\\u0635\\u0645\\u064a\\u0645 \\u0639\\u0631\\u0636 \\u064a\\u0644\\u0627\\u0626\\u0645 \\u0627\\u0644\\u0634\\u0631\\u0643\\u0627\\u062a \\u0648\\u0627\\u0644\\u0645\\u0633\\u062a\\u062b\\u0645\\u0631\\u064a\\u0646 \\u0648\\u064a\\u0636\\u0645\\u0646 \\u0644\\u0644\\u062f\\u0648\\u0644\\u0629 \\u0627\\u0644\\u0633\\u064a\\u0627\\u062f\\u0629 \\u0648\\u062d\\u0641\\u0638 \\u0627\\u0644\\u0642\\u0627\\u0646\\u0648\\u0646 \\u0648\\u0627\\u0644\\u062a\\u0646\\u0645\\u064a\\u0629 \\u0648\\u064a\\u062d\\u0642\\u0642 \\u0639\\u0627\\u0626\\u062f \\u0627\\u0642\\u062a\\u0635\\u0627\\u062f\\u064a \\u062a\\u0646\\u0645\\u0648\\u064a \\u0644\\u0644\\u0637\\u0631\\u0641\\u064a\\u0646 \\u0648\\u0627\\u064a\\u0636\\u0627\\u064b \\u0627\\u0628\\u0631\\u0627\\u0632 \\u0627\\u0644\\u0645\\u0632\\u0627\\u064a\\u0627 \\u0648\\u0627\\u0644\\u0645\\u064a\\u0632\\u0627\\u062a \\u0627\\u0644\\u0645\\u0645\\u0643\\u0646 \\u062a\\u0642\\u062f\\u0645\\u0647\\u0627 \\u0627\\u0644\\u062f\\u0648\\u0644\\u0629 \\u0644\\u0644\\u0645\\u0633\\u062a\\u062b\\u0645\\u0631\\u064a\\u0646 \\u0645\\u062c\\u062a\\u0645\\u0639 \\u0645\\u062d\\u0644\\u064a \\u0645\\u062d\\u0627\\u0641\\u0638\\u0629 \\u064a\\u0643\\u0648\\u0646 \\u0627\\u062b\\u0631 \\u0628\\u0627\\u0644\\u063a \\u0648\\u0648\\u0627\\u0636\\u062d \\u0644\\u0627\\u0634\\u0643 \\u0627\\u0644\\u062f\\u0648\\u0644\\u0629 \\u0628\\u0642\\u064a\\u0627\\u062f\\u062a\\u0647\\u0627 \\u0627\\u0644\\u0633\\u064a\\u0627\\u0633\\u064a\\u0629 \\u062a\\u0633\\u0639\\u064a \\u0644\\u062c\\u0630\\u0628 \\u0627\\u0644\\u0625\\u0633\\u062a\\u062b\\u0645\\u0627\\u0631 \\u0648\\u0625\\u0646\\u0637\\u0644\\u0627\\u0642 \\u0633\\u064a\\u0627\\u0633\\u0629 \\u0645\\u0644\\u0643\\u064a\\u0629 \\u0627\\u0644\\u062f\\u0648\\u0644\\u0629 \\u0648\\u0637\\u0631\\u062d \\u0627\\u0644\\u0631\\u062e\\u0635\\u0629 \\u0627\\u0644\\u0630\\u0647\\u0628\\u064a\\u0629 \\u0648\\u0630\\u0644\\u0643 \\u0644\\u062e\\u0644\\u0642 \\u0645\\u0632\\u064a\\u062f \\u0627\\u0644\\u0641\\u0631\\u0635 \\u0648\\u062a\\u062d\\u0642\\u064a\\u0642 \\u0627\\u0644\\u0646\\u0645\\u0648 \\u0627\\u0644\\u0625\\u0642\\u062a\\u0635\\u0627\\u062f\\u064a \\u0644\\u0627\\u0628\\u062f \\u062a\\u0648\\u0637\\u064a\\u0646 \\u0627\\u0644\\u0635\\u0646\\u0627\\u0639\\u0629 \\u0627\\u0644\\u0645\\u0635\\u0631\\u064a\\u0629 \\u0648\\u062a\\u062d\\u062f\\u064a\\u062f \\u0627\\u0644\\u0645\\u0639\\u0648\\u0642\\u0627\\u062a \\u0627\\u0644\\u062a\\u0649 \\u062a\\u0642\\u0641 \\u0627\\u0645\\u0627\\u0645\\u0647\\u0627 \\u0627\\u0633\\u062a\\u064a\\u0631\\u0627\\u062f \\u0627\\u0644\\u0645\\u0648\\u0627\\u062f \\u0627\\u0644\\u062e\\u0627\\u0645 \\u0648\\u0627\\u0644\\u0634\\u062d\\u0646 \\u0648\\u0627\\u0644\\u062a\\u0641\\u0631\\u064a\\u063a \\u0648\\u0648\\u0635\\u0648\\u0644 \\u0627\\u0644\\u0645\\u0627\\u062f\\u0629 \\u0627\\u0644\\u062e\\u0627\\u0645 \\u0627\\u0644\\u0649 \\u0627\\u0644\\u0645\\u0635\\u0646\\u0639 \\u064a\\u0639\\u0648\\u0642 \\u062d\\u0631\\u0643\\u0629 \\u0627\\u0644\\u0645\\u0633\\u062a\\u062b\\u0645\\u0631\\u064a\\u0646 \\u064a\\u062c\\u0628 \\u0627\\u0644\\u0627\\u062a\\u062c\\u0627\\u0629 \\u0627\\u0644\\u0649 \\u0627\\u0644\\u0625\\u0633\\u062a\\u0641\\u0627\\u062f\\u0629 \\u0627\\u0644\\u0642\\u0635\\u0648\\u064a \\u0645\\u0648\\u0627\\u0631\\u062f \\u062c\\u0645\\u0647\\u0648\\u0631\\u064a\\u0629 \\u0645\\u0635\\u0631 \\u0627\\u0644\\u0639\\u0631\\u0628\\u064a\\u0629 \\u0648\\u062a\\u0639\\u0638\\u064a\\u0645 \\u0627\\u0648\\u062c\\u0629 \\u0627\\u0644\\u0625\\u0633\\u062a\\u0641\\u0627\\u062f\\u0629 \\u0627\\u0644\\u0644\\u062c\\u0648\\u0621 \\u0627\\u0644\\u0649 \\u0627\\u0644\\u0627\\u0633\\u062a\\u064a\\u0631\\u0627\\u062f \\u0627\\u0644\\u0645\\u0648\\u0627\\u062f \\u0627\\u0644\\u062e\\u0627\\u0645 \\u0648\\u0646\\u0628\\u062f\\u0623 \\u0628\\u0627\\u0644\\u0625\\u0633\\u062a\\u062b\\u0645\\u0627\\u0631 \\u0627\\u0644\\u0632\\u0631\\u0627\\u0639\\u064a \\u0644\\u0627\\u0628\\u062f \\u062a\\u062a\\u062c\\u0647 \\u0627\\u0644\\u062f\\u0648\\u0644\\u0629 \\u0627\\u0644\\u0649 \\u0632\\u0631\\u0627\\u0639\\u0629 \\u0627\\u0644\\u0642\\u0645\\u062d \\u0648\\u0627\\u0644\\u0627\\u0631\\u0632 \\u0627\\u0644\\u0642\\u0637\\u0646 \\u0648\\u0627\\u0644\\u0632\\u0631\\u0627\\u0639\\u0627\\u062a \\u0627\\u0644\\u0625\\u0633\\u062a\\u0631\\u0627\\u062a\\u064a\\u062c\\u064a\\u0629 \\u0628\\u0645\\u0633\\u0627\\u062d\\u0627\\u062a \\u0633\\u0627\\u0634\\u0639\\u0629 \\u0648\\u062d\\u064a\\u062b \\u0645\\u0639\\u0638\\u0645 \\u0627\\u0631\\u0627\\u0636\\u064a \\u062c\\u0645\\u0647\\u0648\\u0631\\u064a\\u0629 \\u0645\\u0635\\u0631 \\u0627\\u0644\\u0639\\u0631\\u0628\\u064a\\u0629 \\u062a\\u0635\\u0644\\u062d \\u0644\\u0644\\u0632\\u0627\\u0639\\u0629 \\u0641\\u0644\\u0648 \\u062a\\u0648\\u0637\\u064a\\u0646 \\u0627\\u0644\\u0632\\u0631\\u0627\\u0639\\u0627\\u062a \\u0628\\u062e\\u0637\\u0629 \\u0627\\u0633\\u062a\\u0631\\u0627\\u062a\\u062c\\u064a\\u0629 \\u0637\\u0648\\u064a\\u0644\\u0629 \\u0627\\u0644\\u0645\\u062f\\u064a \\u0633\\u0646\\u0643\\u062a\\u0641\\u064a \\u0627\\u0633\\u062a\\u064a\\u0631\\u0627\\u062f \\u0627\\u0644\\u062d\\u0628\\u0648\\u0628 \\u0627\\u0644\\u063a\\u0630\\u0627\\u0626\\u064a\\u0629 \\u0648\\u0633\\u064a\\u0648\\u062c\\u062f \\u0641\\u0627\\u0626\\u0636 \\u0648\\u064a\\u062a\\u0645 \\u0627\\u0633\\u062a\\u063a\\u0644\\u0627\\u0644\\u0629 \\u0644\\u0644\\u0648\\u0635\\u0648\\u0644 \\u0644\\u0623\\u0642\\u0635\\u064a \\u0627\\u0633\\u062a\\u0641\\u0627\\u062f\\u0629 \\u0639\\u0638\\u0645\\u064a \\u062e\\u0644\\u0627\\u0644 \\u0645\\u0635\\u0627\\u0646\\u0639 \\u0627\\u0644\\u0645\\u0633\\u062a\\u062b\\u0645\\u0631\\u064a\\u0646 \\u0627\\u0644\\u062f\\u0648\\u0644\\u0629 \\u0627\\u0644\\u0645\\u0635\\u0631\\u064a\\u0629 \\u0647\\u0649 \\u0627\\u0644\\u062a\\u0649 \\u062a\\u0642\\u0648\\u0645 \\u0628\\u0627\\u0644\\u062a\\u0648\\u0631\\u064a\\u062f \\u0644\\u0644\\u0645\\u0633\\u062a\\u062b\\u0645\\u0631 \\u0628\\u0633\\u0639\\u0631 \\u0627\\u0642\\u0644 \\u0627\\u0644\\u0633\\u0639\\u0631 \\u0627\\u0644\\u062e\\u0627\\u0631\\u062c\\u064a \\u0648\\u0633\\u0646\\u0639\\u0637\\u064a \\u0645\\u062b\\u0627\\u0644\\u0627\\u064b \\u0627\\u0644\\u0642\\u0637\\u0646 \\u0627\\u0644\\u0623\\u0631\\u0632 \\u0627\\u0644\\u0642\\u0645\\u062d \\u0639\\u0628\\u0627\\u062f \\u0627\\u0644\\u0634\\u0645\\u0633 \\u0627\\u0644\\u0630\\u0631\\u0647 \\u0627\\u0644\\u0646\\u062e\\u064a\\u0644 \\u0646\\u0638\\u0631\\u0646\\u0627 \\u0644\\u0643\\u0644 \\u0647\\u0630\\u0629 \\u0627\\u0644\\u062d\\u0628\\u0648\\u0628 \\u0641\\u0644\\u0647\\u0627 \\u0627\\u0633\\u062a\\u062e\\u062f\\u0627\\u0645\\u0627\\u062a \\u0643\\u062b\\u064a\\u0631\\u0629 \\u0645\\u062a\\u0639\\u062f\\u062f\\u0629 \\u0648\\u0645\\u0639 \\u0627\\u062a\\u062c\\u0627\\u0647 \\u0627\\u0644\\u062f\\u0648\\u0644\\u0629 \\u0627\\u0644\\u0645\\u0635\\u0631\\u064a\\u0629 \\u0627\\u0644\\u0649 \\u062a\\u0639\\u0645\\u064a\\u0631 \\u0633\\u064a\\u0646\\u0627\\u0621 \\u0627\\u0642\\u062a\\u0631\\u062d \\u0627\\u0635\\u0644\\u0627\\u0642 \\u0645\\u0634\\u0631\\u0648\\u0639 \\u0642\\u0648\\u0645\\u064a \\u0628\\u0633\\u064a\\u0646\\u0627\\u0621 \\u0648\\u064a\\u0633\\u0645\\u064a \\u0633\\u064a\\u0646\\u0627\\u0621 \\u0627\\u0644\\u062e\\u0636\\u0631\\u0627\\u0621 \\u0648\\u064a\\u062a\\u0645 \\u0627\\u0644\\u0632\\u0631\\u0627\\u0639\\u0629 \\u0627\\u0644\\u062e\\u0637\\u0629 \\u0627\\u0644\\u0627\\u0633\\u062a\\u0631\\u0627\\u062a\\u062c\\u064a\\u0629 \\u0627\\u0644\\u062a\\u0649 \\u062a\\u0636\\u0639\\u0647\\u0627 \\u0627\\u0644\\u062f\\u0648\\u0644\\u0629 \\u0648\\u0627\\u0644\\u0623\\u0647\\u0645 \\u062a\\u0643\\u0648\\u0646 \\u0628\\u0625\\u0633\\u062a\\u062b\\u0645\\u0627\\u0631\\u0627\\u062a \\u0645\\u0635\\u0631\\u064a\\u0629 \\u0648\\u0639\\u0646\\u062f \\u0627\\u0644\\u062a\\u0639\\u0645\\u064a\\u0631 \\u0625\\u0639\\u0637\\u0627\\u0621 \\u0627\\u0644\\u0645\\u0648\\u0627\\u0637\\u0646 \\u0642\\u0637\\u0639\\u0629 \\u0623\\u0631\\u0636 \\u064a\\u0642\\u0648\\u0645 \\u0628\\u0625\\u0633\\u062a\\u0635\\u0644\\u0627\\u062d\\u0647\\u0627 \\u0625\\u0639\\u0637\\u0627\\u0621 \\u0627\\u0644\\u0645\\u062d\\u0635\\u0648\\u0644 \\u0644\\u0644\\u062f\\u0648\\u0644\\u0629 \\u0627\\u0644\\u0645\\u0635\\u0631\\u064a\\u0629 \\u0648\\u0627\\u0644\\u062f\\u0648\\u0644\\u0629 \\u0647\\u0649 \\u062a\\u0642\\u0648\\u0645 \\u0628\\u0627\\u0644\\u062a\\u0648\\u0631\\u064a\\u062f \\u0644\\u0644\\u0645\\u0633\\u062a\\u062b\\u0645\\u0631 \\u062d\\u0641\\u0638 \\u0627\\u0644\\u0644\\u0647 \\u0645\\u0635\\u0631\\u0646\\u0627 \\u0627\\u0644\\u062d\\u0628\\u064a\\u0628\\u0629 \\u062c\\u0630\\u0628 \\u0627\\u0633\\u062a\\u062b\\u0645\\u0627\\u0631\\u0627\\u062a \\u0645\\u062d\\u0644\\u064a\\u0629 \\u0648\\u0627\\u062c\\u0646\\u0628\\u064a\\u0629\"\n        ],\n        \"semantic_type\": \"\",\n        \"description\": \"\"\n      }\n    },\n    {\n      \"column\": \"sentiment\",\n      \"properties\": {\n        \"dtype\": \"category\",\n        \"num_unique_values\": 3,\n        \"samples\": [\n          \"Positive\",\n          \"Neutral\",\n          \"Negative\"\n        ],\n        \"semantic_type\": \"\",\n        \"description\": \"\"\n      }\n    },\n    {\n      \"column\": \"sentiment1\",\n      \"properties\": {\n        \"dtype\": \"category\",\n        \"num_unique_values\": 3,\n        \"samples\": [\n          \"Positive\",\n          \"Neutral\",\n          \"Negative\"\n        ],\n        \"semantic_type\": \"\",\n        \"description\": \"\"\n      }\n    },\n    {\n      \"column\": \"Most Frequent Words\",\n      \"properties\": {\n        \"dtype\": \"string\",\n        \"num_unique_values\": 40,\n        \"samples\": [\n          \"['\\u0627\\u0644\\u0632\\u0631\\u0627\\u0639\\u0629', '\\u062d\\u0627\\u062c\\u0629', '\\u0641\\u062a\\u062d', '\\u0645\\u062c\\u0627\\u0644', '\\u0627\\u0644\\u0627\\u0633\\u062a\\u062b\\u0645\\u0627\\u0631']\",\n          \"['to', 'I', 'would', 'Admitte', 'Two']\",\n          \"['\\u0627\\u0644\\u062f\\u0648\\u0644\\u0629', '\\u0627\\u0644\\u0649', '\\u0627\\u0644\\u0645\\u0635\\u0631\\u064a\\u0629', '\\u0644\\u0644\\u0645\\u0633\\u062a\\u062b\\u0645\\u0631', '\\u0627\\u0644\\u062a\\u0649']\"\n        ],\n        \"semantic_type\": \"\",\n        \"description\": \"\"\n      }\n    },\n    {\n      \"column\": \"Most Frequent Words with Frequencies\",\n      \"properties\": {\n        \"dtype\": \"string\",\n        \"num_unique_values\": 30,\n        \"samples\": [\n          \"[('\\u0634\\u0631\\u064a\\u0643', 2), ('\\u0627\\u062c\\u0646\\u0628\\u064a', 2), ('\\u0627\\u0644\\u0645\\u0635\\u0631\\u064a', 2), ('\\u0627\\u0644\\u062b\\u0642\\u0629', 2)]\",\n          \"[('to', 3)]\",\n          \"[('\\u0627\\u0644\\u0627\\u0633\\u062a\\u062b\\u0645\\u0627\\u0631', 2), ('\\u0627\\u0644\\u0645\\u0635\\u0631\\u064a\\u0629', 2)]\"\n        ],\n        \"semantic_type\": \"\",\n        \"description\": \"\"\n      }\n    },\n    {\n      \"column\": \"Summary\",\n      \"properties\": {\n        \"dtype\": \"string\",\n        \"num_unique_values\": 40,\n        \"samples\": [\n          \"\\u0627\\u0647\\u0645 \\u062d\\u0627\\u062c\\u0629 \\u0641\\u062a\\u062d \\u0645\\u062c\\u0627\\u0644 \\u0627\\u0644\\u0627\\u0633\\u062a\\u062b\\u0645\\u0627\\u0631 \\u0648\\u0627\\u0644\\u0633\\u0645\\u0627\\u062d \\u0628\\u0628\\u0646\\u0627\\u0621 \\u0627\\u0644\\u0645\\u0634\\u0631\\u0648\\u0639\\u0627\\u062a \\u0630\\u0627\\u062a \\u0627\\u0644\\u0646\\u0641\\u0639 \\u0627\\u0644\\u0639\\u0627\\u0645 \\u0648\\u0627\\u0644\\u062e\\u0627\\u0635 \\u0639\\u0644\\u0649 \\u0627\\u0644\\u0627\\u0631\\u0627\\u0636\\u064a \\u0627\\u0644\\u0632\\u0631\\u0627\\u0639\\u0629 \\u0628\\u0634\\u0631\\u0648\\u0637 \\u0648\\u062a\\u0648\\u0633\\u0639 \\u0627\\u0644\\u0632\\u0631\\u0627\\u0639\\u0629 \\u0641\\u064a \\u0623\\u0645\\u0627\\u0643\\u0646 \\u0628\\u062f\\u064a\\u0644\\u0629\",\n          \"I would to Admitte Two Golden licenses one to Egyptian Rail way Authority and other to National Committe of Defence\",\n          \"\\u0627\\u0644\\u0645\\u0645\\u0643\\u0646 \\u0627\\u0644\\u0627\\u0647\\u062a\\u0645\\u0627\\u0645 \\u0628\\u0645\\u0628\\u062f\\u0623 \\u062f\\u0628\\u0644\\u0648\\u0645\\u0627\\u0633\\u064a\\u0629 \\u0627\\u0644\\u062a\\u0646\\u0645\\u064a\\u0629 \\u0643\\u0645\\u0628\\u062f\\u0623 \\u0631\\u0626\\u064a\\u0633\\u064a \\u0641\\u064a \\u062c\\u0630\\u0628 \\u0627\\u0644\\u0627\\u0633\\u062a\\u062b\\u0645\\u0627\\u0631\\u0627\\u062a \\u0648\\u064a\\u0645\\u0643\\u0646 \\u062a\\u0646\\u0641\\u064a\\u0630 \\u0647\\u0630\\u0627 \\u0639\\u0644\\u064a \\u0646\\u0637\\u0627\\u0642 \\u0627\\u0644\\u0645\\u062c\\u062a\\u0645\\u0639 \\u0627\\u0644\\u0645\\u062d\\u0644\\u064a \\u0643\\u062a\\u062c\\u0631\\u0628\\u0629 \\u0642\\u0627\\u0628\\u0644\\u0629 \\u0644\\u0644\\u062a\\u0639\\u0645\\u064a\\u0645 \\u0648\\u0647\\u0630\\u0627 \\u0645\\u0645\\u0643\\u0646 \\u0627\\u0646 \\u064a\\u0643\\u0648\\u0646 \\u0639\\u0646 \\u0637\\u0631\\u064a\\u0642 \\u062a\\u0648\\u062c\\u064a\\u0647 \\u0627\\u0644\\u0633\\u0627\\u062f\\u0629 \\u0627\\u0644\\u0645\\u062d\\u0627\\u0641\\u0638\\u064a\\u0646 \\u0648\\u0646\\u0648\\u0627\\u0628\\u0647\\u0645 \\u0628\\u0627\\u0633\\u062a\\u063a\\u0644\\u0627\\u0644 \\u0627\\u0644\\u0645\\u0646\\u0635\\u0627\\u062a \\u0627\\u0644\\u0627\\u0639\\u0644\\u0627\\u0645\\u064a\\u0629 \\u0627\\u0644\\u062a\\u0642\\u0644\\u064a\\u062f\\u064a\\u0629 \\u0633\\u0648\\u0627\\u0621 \\u062a\\u0644\\u064a\\u0641\\u0627\\u0632 \\u0648 \\u0631\\u0627\\u062f\\u064a\\u0648 \\u0648\\u0635\\u062d\\u0641\"\n        ],\n        \"semantic_type\": \"\",\n        \"description\": \"\"\n      }\n    },\n    {\n      \"column\": \"Bullet Points\",\n      \"properties\": {\n        \"dtype\": \"string\",\n        \"num_unique_values\": 40,\n        \"samples\": [\n          \"- \\u0627\\u0647\\u0645 \\u062d\\u0627\\u062c\\u0629 \\u0641\\u062a\\u062d \\u0645\\u062c\\u0627\\u0644 \\u0627\\u0644\\u0627\\u0633\\u062a\\u062b\\u0645\\u0627\\u0631 \\u0648\\u0627\\u0644\\u0633\\u0645\\u0627\\u062d \\u0628\\u0628\\u0646\\u0627\\u0621 \\u0627\\u0644\\u0645\\u0634\\u0631\\u0648\\u0639\\u0627\\u062a \\u0630\\u0627\\u062a \\u0627\\u0644\\u0646\\u0641\\u0639 \\u0627\\u0644\\u0639\\u0627\\u0645 \\u0648\\u0627\\u0644\\u062e\\u0627\\u0635 \\u0639\\u0644\\u0649 \\u0627\\u0644\\u0627\\u0631\\u0627\\u0636\\u064a \\u0627\\u0644\\u0632\\u0631\\u0627\\u0639\\u0629 \\u0628\\u0634\\u0631\\u0648\\u0637 \\u0648\\u062a\\u0648\\u0633\\u0639 \\u0627\\u0644\\u0632\\u0631\\u0627\\u0639\\u0629 \\u0641\\u064a \\u0623\\u0645\\u0627\\u0643\\u0646 \\u0628\\u062f\\u064a\\u0644\\u0629\",\n          \"- I would to Admitte Two Golden licenses one to Egyptian Rail way Authority and other to National Committe of Defence\",\n          \"- \\u0627\\u0644\\u0645\\u0645\\u0643\\u0646 \\u0627\\u0644\\u0627\\u0647\\u062a\\u0645\\u0627\\u0645 \\u0628\\u0645\\u0628\\u062f\\u0623 \\u062f\\u0628\\u0644\\u0648\\u0645\\u0627\\u0633\\u064a\\u0629 \\u0627\\u0644\\u062a\\u0646\\u0645\\u064a\\u0629 \\u0643\\u0645\\u0628\\u062f\\u0623 \\u0631\\u0626\\u064a\\u0633\\u064a \\u0641\\u064a \\u062c\\u0630\\u0628 \\u0627\\u0644\\u0627\\u0633\\u062a\\u062b\\u0645\\u0627\\u0631\\u0627\\u062a \\u0648\\u064a\\u0645\\u0643\\u0646 \\u062a\\u0646\\u0641\\u064a\\u0630 \\u0647\\u0630\\u0627 \\u0639\\u0644\\u064a \\u0646\\u0637\\u0627\\u0642 \\u0627\\u0644\\u0645\\u062c\\u062a\\u0645\\u0639 \\u0627\\u0644\\u0645\\u062d\\u0644\\u064a \\u0643\\u062a\\u062c\\u0631\\u0628\\u0629 \\u0642\\u0627\\u0628\\u0644\\u0629 \\u0644\\u0644\\u062a\\u0639\\u0645\\u064a\\u0645 \\u0648\\u0647\\u0630\\u0627 \\u0645\\u0645\\u0643\\u0646 \\u0627\\u0646 \\u064a\\u0643\\u0648\\u0646 \\u0639\\u0646 \\u0637\\u0631\\u064a\\u0642 \\u062a\\u0648\\u062c\\u064a\\u0647 \\u0627\\u0644\\u0633\\u0627\\u062f\\u0629 \\u0627\\u0644\\u0645\\u062d\\u0627\\u0641\\u0638\\u064a\\u0646 \\u0648\\u0646\\u0648\\u0627\\u0628\\u0647\\u0645 \\u0628\\u0627\\u0633\\u062a\\u063a\\u0644\\u0627\\u0644 \\u0627\\u0644\\u0645\\u0646\\u0635\\u0627\\u062a \\u0627\\u0644\\u0627\\u0639\\u0644\\u0627\\u0645\\u064a\\u0629 \\u0627\\u0644\\u062a\\u0642\\u0644\\u064a\\u062f\\u064a\\u0629 \\u0633\\u0648\\u0627\\u0621 \\u062a\\u0644\\u064a\\u0641\\u0627\\u0632 \\u0648 \\u0631\\u0627\\u062f\\u064a\\u0648 \\u0648\\u0635\\u062d\\u0641\"\n        ],\n        \"semantic_type\": \"\",\n        \"description\": \"\"\n      }\n    },\n    {\n      \"column\": \"Entities\",\n      \"properties\": {\n        \"dtype\": \"string\",\n        \"num_unique_values\": 38,\n        \"samples\": [\n          \"[('\\u2581\\u0628\\u0646', 'B-organization'), ('\\u0643', 'B-organization'), ('\\u2581\\u0631\\u0641\\u0639', 'B-event'), ('\\u2581\\u0627\\u0644\\u0631\\u0633\\u0648\\u0645', 'I-event'), ('\\u2581\\u0648\\u0627\\u0644', 'I-event'), ('\\u0636\\u0631', 'I-event'), ('\\u0627\\u0626\\u0628', 'I-event'), ('\\u2581\\u0627\\u0644\\u0645\\u0648\\u0627\\u062f', 'B-product'), ('\\u2581\\u0627\\u0644\\u062e\\u0627\\u0645', 'I-product')]\",\n          \"[('\\u2581\\u0627\\u0631\\u0636', 'B-location'), ('\\u2581\\u0645\\u0635\\u0631', 'I-location'), ('\\u2581', 'B-artwork'), ('\\u062a\\u0641\\u0635\\u064a\\u0644', 'B-artwork')]\",\n          \"[('\\u2581\\u0625\\u0646', 'I-organization'), ('\\u2581\\u0627\\u0644\\u0648\\u0644\\u0627\\u064a\\u0627\\u062a', 'B-location'), ('\\u2581\\u0627\\u0644\\u0645\\u062a\\u062d\\u062f\\u0629', 'I-location'), ('\\u2581\\u0627\\u0644\\u0633\\u0639\\u0648\\u062f\\u064a\\u0629', 'B-nationality')]\"\n        ],\n        \"semantic_type\": \"\",\n        \"description\": \"\"\n      }\n    }\n  ]\n}"
            }
          },
          "metadata": {},
          "execution_count": 6
        }
      ]
    },
    {
      "cell_type": "code",
      "source": [
        "from gensim.utils import tokenize\n",
        "from sklearn.feature_extraction.text import ENGLISH_STOP_WORDS\n",
        "\n",
        "def clean_tokenize(text: str) -> list[str]:\n",
        "    \"\"\"This function tokenizes texts and removes stop words from them\"\"\"\n",
        "    tokens = tokenize(str(text), lower=True, deacc=True)\n",
        "    tokens = [token for token in tokens if token not in ENGLISH_STOP_WORDS]\n",
        "    return tokens\n",
        "\n",
        "# Assuming 'df' is your DataFrame with the 'cleaned_title' column\n",
        "tokenized_corpus = [clean_tokenize(text) for text in df['clean Comment']]"
      ],
      "metadata": {
        "id": "9u6VXXNl_WhK"
      },
      "execution_count": null,
      "outputs": []
    },
    {
      "cell_type": "code",
      "source": [
        "from gensim.utils import tokenize\n",
        "from sklearn.feature_extraction.text import ENGLISH_STOP_WORDS\n",
        "\n",
        "def clean_tokenize(text: str) -> list[str]:\n",
        "    \"\"\"This function tokenizes texts and removes stop words from them\"\"\"\n",
        "    tokens = tokenize(str(text), lower=True, deacc=True)\n",
        "    tokens = [token for token in tokens if token not in ENGLISH_STOP_WORDS]\n",
        "    return tokens\n",
        "\n",
        "# Assuming 'df' is your DataFrame with the 'cleaned_title' column\n",
        "tokenized_corpus = [clean_tokenize(str(text)) for text in df['clean Comment']]"
      ],
      "metadata": {
        "id": "uv4w5Mpn_rGy"
      },
      "execution_count": null,
      "outputs": []
    },
    {
      "cell_type": "code",
      "source": [
        "model = GloVe(vector_size=25)\n",
        "model.train(tokenized_corpus)"
      ],
      "metadata": {
        "id": "tcJJn1osqaEv",
        "colab": {
          "base_uri": "https://localhost:8080/"
        },
        "outputId": "0653f210-36be-45a1-d94d-613d87aeef29"
      },
      "execution_count": null,
      "outputs": [
        {
          "output_type": "stream",
          "name": "stdout",
          "text": [
            "Collecting Vocabulary...\n",
            "Collecting cooccurrences...\n",
            "Shuffling cooccurrences...\n",
            "Training model...\n"
          ]
        }
      ]
    },
    {
      "cell_type": "code",
      "source": [
        "model.wv.most_similar(\"مصر\")"
      ],
      "metadata": {
        "id": "vv0obOYNrbgX",
        "colab": {
          "base_uri": "https://localhost:8080/"
        },
        "outputId": "720abc11-0ae9-4619-e2ab-d8c8bc8bd698"
      },
      "execution_count": null,
      "outputs": [
        {
          "output_type": "execute_result",
          "data": {
            "text/plain": [
              "[('عمل', 0.3801420032978058),\n",
              " ('تكون', 0.37638068199157715),\n",
              " ('صناعية', 0.3201386332511902),\n",
              " ('اعمل', 0.3064544200897217),\n",
              " ('صادرات', 0.2635020315647125),\n",
              " ('الضرايب', 0.21892845630645752),\n",
              " ('الحكومة', 0.2185669243335724),\n",
              " ('مساحة', 0.20209498703479767),\n",
              " ('انشاء', 0.19338399171829224),\n",
              " ('بقيمة', 0.17800359427928925)]"
            ]
          },
          "metadata": {},
          "execution_count": 12
        }
      ]
    },
    {
      "cell_type": "code",
      "source": [
        "from embedding_explorer import show_network_explorer\n",
        "\n",
        "# Assuming 'model' is your Word2Vec model\n",
        "most_negative_word = model.wv.most_similar(positive=['مصر'], negative=['السعودية'], topn=1)[0][0]\n",
        "\n",
        "vocabulary = model.wv.index_to_key\n",
        "embeddings = model.wv.vectors\n",
        "show_network_explorer(vocabulary, embeddings=embeddings)\n"
      ],
      "metadata": {
        "id": "HZrvHs_krjpz",
        "colab": {
          "base_uri": "https://localhost:8080/",
          "height": 740
        },
        "outputId": "3e3e9370-4182-4c27-d5ed-b8ed3c726021"
      },
      "execution_count": null,
      "outputs": [
        {
          "output_type": "stream",
          "name": "stdout",
          "text": [
            "Creating explorer with name: \n"
          ]
        },
        {
          "output_type": "display_data",
          "data": {
            "text/plain": [
              "<IPython.core.display.Javascript object>"
            ],
            "application/javascript": [
              "(async (port, path, width, height, cache, element) => {\n",
              "    if (!google.colab.kernel.accessAllowed && !cache) {\n",
              "      return;\n",
              "    }\n",
              "    element.appendChild(document.createTextNode(''));\n",
              "    const url = await google.colab.kernel.proxyPort(port, {cache});\n",
              "    const iframe = document.createElement('iframe');\n",
              "    iframe.src = new URL(path, url).toString();\n",
              "    iframe.height = height;\n",
              "    iframe.width = width;\n",
              "    iframe.style.border = 0;\n",
              "    iframe.allow = [\n",
              "        'accelerometer',\n",
              "        'autoplay',\n",
              "        'camera',\n",
              "        'clipboard-read',\n",
              "        'clipboard-write',\n",
              "        'gyroscope',\n",
              "        'magnetometer',\n",
              "        'microphone',\n",
              "        'serial',\n",
              "        'usb',\n",
              "        'xr-spatial-tracking',\n",
              "    ].join('; ');\n",
              "    element.appendChild(iframe);\n",
              "  })(8050, \"/\", \"100%\", 650, false, window.element)"
            ]
          },
          "metadata": {}
        },
        {
          "output_type": "stream",
          "name": "stdout",
          "text": [
            "Open in browser:\n"
          ]
        },
        {
          "output_type": "display_data",
          "data": {
            "text/plain": [
              "<IPython.core.display.Javascript object>"
            ],
            "application/javascript": [
              "(async (port, path, text, element) => {\n",
              "    if (!google.colab.kernel.accessAllowed) {\n",
              "      return;\n",
              "    }\n",
              "    element.appendChild(document.createTextNode(''));\n",
              "    const url = await google.colab.kernel.proxyPort(port);\n",
              "    const anchor = document.createElement('a');\n",
              "    anchor.href = new URL(path, url).toString();\n",
              "    anchor.target = '_blank';\n",
              "    anchor.setAttribute('data-href', url + path);\n",
              "    anchor.textContent = text;\n",
              "    element.appendChild(anchor);\n",
              "  })(8050, \"/\", \"Click this link to open topicwizard.\", window.element)"
            ]
          },
          "metadata": {}
        },
        {
          "output_type": "execute_result",
          "data": {
            "text/plain": [
              "<Thread(Thread-10 (_run_silent), stopped 140660827919936)>"
            ]
          },
          "metadata": {},
          "execution_count": 14
        }
      ]
    },
    {
      "cell_type": "code",
      "source": [
        "vocabulary"
      ],
      "metadata": {
        "id": "sDShgG-DruUK",
        "colab": {
          "base_uri": "https://localhost:8080/"
        },
        "outputId": "eb2a3004-6c6d-44c2-a0b0-1d9602b36e1c"
      },
      "execution_count": null,
      "outputs": [
        {
          "output_type": "execute_result",
          "data": {
            "text/plain": [
              "['الاستثمار',\n",
              " 'مصر',\n",
              " 'الدولة',\n",
              " 'مليار',\n",
              " 'المصرية',\n",
              " 'الاستثمارات',\n",
              " 'للاستثمار',\n",
              " 'التى',\n",
              " 'المستثمر',\n",
              " 'المستثمرين',\n",
              " 'الى',\n",
              " 'جذب',\n",
              " 'سعر',\n",
              " 'مليون',\n",
              " 'الاجنبي',\n",
              " 'البطاطس',\n",
              " 'الخام',\n",
              " 'السعودية',\n",
              " 'الشركات',\n",
              " 'العالم',\n",
              " 'انشاء',\n",
              " 'عام',\n",
              " 'للمستثمر',\n",
              " 'مصنع',\n",
              " 'وهذا',\n",
              " 'يعني',\n",
              " 'احنا',\n",
              " 'اعمل',\n",
              " 'الحكومة',\n",
              " 'الدوله',\n",
              " 'الصادرات',\n",
              " 'الصناعات',\n",
              " 'الضرايب',\n",
              " 'المباشر',\n",
              " 'المصنع',\n",
              " 'تقوم',\n",
              " 'خلال',\n",
              " 'لكل',\n",
              " 'للمستثمرين',\n",
              " 'مثلا',\n",
              " 'يصل',\n",
              " 'الاقل',\n",
              " 'انه',\n",
              " 'بقيمة',\n",
              " 'تشجيع',\n",
              " 'تكون',\n",
              " 'سنة',\n",
              " 'سنويا',\n",
              " 'صادرات',\n",
              " 'صناعات',\n",
              " 'صناعية',\n",
              " 'عمل',\n",
              " 'لازم',\n",
              " 'مباشرة',\n",
              " 'مدينة',\n",
              " 'مساحة',\n",
              " 'نصف',\n",
              " 'واضحة',\n",
              " 'يجب',\n",
              " 'يكون',\n",
              " 'يمكن',\n",
              " '<unk>']"
            ]
          },
          "metadata": {},
          "execution_count": 15
        }
      ]
    }
  ]
}